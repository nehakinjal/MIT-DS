{
 "cells": [
  {
   "cell_type": "markdown",
   "metadata": {},
   "source": [
    "# **CAVIAR Network Analysis**\n",
    "\n",
    "In this case study, we will go through and understand a **time-varying criminal network that was repeatedly disrupted by police forces**, and how the criminal network reoriented in response to the seizures of product by the police forces."
   ]
  },
  {
   "cell_type": "markdown",
   "metadata": {
    "id": "hezk2UK6BdsA"
   },
   "source": [
    "--------------------\n",
    "## **Context**\n",
    "--------------------\n",
    "Here is some information on the CAVIAR project and the role of certain individuals arrested following the investigation. **The investigation lasted two years and ran from 1994 to 1996**. The operation was brought together by investigation units of the **Montreal police and the Royal Canadian Mounted Police of Canada**. **During these two years, 11 wiretap warrants, valid for about two months each, were obtained (11 matrices match these phases).**\n",
    "\n",
    "This case is rather unique because, unlike other investigative strategies, **the mandate of the CAVIAR project was to seize the drugs without arresting criminals**. During this period, imports of the trafficking network were hit and seized by the police on eleven occasions. **The arrests took place only at the end of the investigation**. Monetary losses for traffickers were estimated at 32 million dollars. **Some phases included no seizures, and others included multiple**. Here is what they represent **in terms of the amount of money**: \n",
    "\n",
    "- Phase 4 - 1 seizure, 2,500,000 Dollars, 300 kg of marijuana\n",
    "- Phase 6 - 3 seizures, 1,300,000 Dollars, 2 x 15 kg of marijuana + 1 x 2 kg of cocaine\n",
    "- Phase 7 - 1 seizure, 3,500,000 Dollars, 401 kg of marijuana\n",
    "- Phase 8 - 1 seizure, 360,000 Dollars, 9 kg of cocaine\n",
    "- Phase 9 - 2 seizures, 4,300,000 Dollars, 2 kg of cocaine + 1 x 500 kg marijuana\n",
    "- Phase 10 - 1 seizure, 18,700,000 Dollars, 2200 kg of marijuana\n",
    "- Phase 11 - 2 seizures, 1,300,000 Dollars, 12 kg of cocaine + 11 kg of cocaine\n",
    "\n",
    "As you can see, this case study offers a **rare opportunity to study a criminal network in response to upheaval by police forces**. This allows us to analyze changes in the network structure and to survey the reaction and adaptation of the participants while they were subjected to an increasing number of distressing constraints. \n",
    "\n",
    "------------------------------------\n",
    "## **About the network**\n",
    "------------------------------------\n",
    "The network consists of 110 (numbered) players. Players 1-82 are the traffickers. Players 83-110 are the non-traffickers (financial investors, accountants, owners of various importation businesses, etc.). Initially, the investigation targeted Daniel Serero, the alleged mastermind of a drug network in downtown Montreal, attempting to import marijuana to Canada from Morocco, transiting through Spain. After the first seizure, happening in phase 4, traffickers reoriented to cocaine import from Colombia, transiting through the United States. \n",
    "\n",
    "According to the police, the role of the players of the \"Serero organization\" under investigation were the following: \n",
    "\n",
    "- Daniel Serero (N1) - Mastermind of the network\n",
    "- Pierre Perlini (N3) - Principal lieutenant of Serero, executes instructions\n",
    "- Alain (N83) and G'erard (N86) Levy - Investors and transporters of money\n",
    "- Wallace Lee (N85) - Takes care of financial affairs (accountant)\n",
    "- Gaspard Lino (N6) - Broker in Spain\n",
    "- Samir Rabbat (N11) - Provider in Morocco\n",
    "- Lee Gilbert (N88) - Trusted man of Wallace Lee (became an informer after the arrest)\n",
    "- Beverly Ashton (N106) - Spouse of Lino, transports money and documents\n",
    "- Antonio Iannacci (N89) - Investor\n",
    "- Mohammed Echouafni (N84) - Moroccan investor\n",
    "- Richard Gleeson (N5), Bruno de Quinzio (N8), and Gabrielle Casale (N76) - Charged with recuperating the marijuana\n",
    "- Roderik Janouska (N77) - Individual with airport contacts\n",
    "- Patrick Lee (N87) - Investor\n",
    "- Salvatore Panetta (N82) - Transport arrangements manager\n",
    "- Steve Cunha (N96) - Transport manager, owner of a legitimate import company (became an informer after the arrest)\n",
    "- Ernesto Morales (N12) - Principal organizer of the cocaine import, an intermediary between the Colombians and the Serero organization\n",
    "- Oscar Nieri (N17) - The handyman of Morales\n",
    "- Richard Brebner (N80) - Transporting the cocaine from the US to Montreal\n",
    "- Ricardo Negrinotti (N33) - Taking possession of the cocaine in the US to hand it to Brebner\n",
    "- Johnny Pacheco (N16) - Cocaine provider\n",
    "\n",
    "-----------------------\n",
    "## **Objective**\n",
    "-----------------------\n",
    "- The objective of the case study is to **understand, create, and visualize the data in phases**.\n",
    "- Later on, we will **apply different network centrality measures** and understand the important nodes of the network.\n",
    "- We will **visualize the centrality measures** of the important nodes across phases."
   ]
  },
  {
   "cell_type": "markdown",
   "metadata": {
    "id": "w7HiidCcBdsB"
   },
   "source": [
    "## **Importing the required libraries**"
   ]
  },
  {
   "cell_type": "code",
   "execution_count": 2,
   "metadata": {
    "id": "TSDC9hKOBdsB"
   },
   "outputs": [],
   "source": [
    "%matplotlib inline\n",
    "\n",
    "import networkx as nx\n",
    "\n",
    "from decorator import decorator\n",
    "\n",
    "from networkx.utils import create_random_state, create_py_random_state\n",
    "\n",
    "import numpy as np\n",
    "\n",
    "import pandas as pd\n",
    "\n",
    "import matplotlib.pyplot as plt\n",
    "\n",
    "import seaborn as sns\n",
    "\n",
    "import warnings\n",
    "\n",
    "# To get rid of warning messages\n",
    "warnings.filterwarnings('ignore') \n",
    "\n",
    "# Remove scientific notations and display numbers with 2 decimal points instead\n",
    "pd.options.display.float_format = '{ : , .2f}'.format        \n",
    "\n",
    "# Update default background style of plots\n",
    "sns.set_style(style = 'darkgrid')"
   ]
  },
  {
   "cell_type": "markdown",
   "metadata": {
    "id": "hf9VEP2zBdsF"
   },
   "source": [
    "## **Loading the data from 11 phases**"
   ]
  },
  {
   "cell_type": "code",
   "execution_count": 3,
   "metadata": {
    "id": "Q8a7acAJBdsF"
   },
   "outputs": [],
   "source": [
    "P1 = pd.read_csv(\"CAVIAR_Phases - Notebook/phase1.csv\")\n",
    "\n",
    "P2 = pd.read_csv(\"CAVIAR_Phases - Notebook/phase2.csv\")\n",
    "\n",
    "P3 = pd.read_csv(\"CAVIAR_Phases - Notebook/phase3.csv\")\n",
    "\n",
    "P4 = pd.read_csv(\"CAVIAR_Phases - Notebook/phase4.csv\")\n",
    "\n",
    "P5 = pd.read_csv(\"CAVIAR_Phases - Notebook/phase5.csv\")\n",
    "\n",
    "P6 = pd.read_csv(\"CAVIAR_Phases - Notebook/phase6.csv\")\n",
    "\n",
    "P7 = pd.read_csv(\"CAVIAR_Phases - Notebook/phase7.csv\")\n",
    "\n",
    "P8 = pd.read_csv(\"CAVIAR_Phases - Notebook/phase8.csv\")\n",
    "\n",
    "P9 = pd.read_csv(\"CAVIAR_Phases - Notebook/phase9.csv\")\n",
    "\n",
    "P10 = pd.read_csv(\"CAVIAR_Phases - Notebook/phase10.csv\")\n",
    "\n",
    "P11 = pd.read_csv(\"CAVIAR_Phases - Notebook/phase11.csv\")"
   ]
  },
  {
   "cell_type": "code",
   "execution_count": 4,
   "metadata": {
    "colab": {
     "base_uri": "https://localhost:8080/",
     "height": 194
    },
    "id": "QDYL_CznBdsJ",
    "outputId": "8fe4baf5-21cd-48d4-e1be-96fab15f6a80"
   },
   "outputs": [
    {
     "data": {
      "text/html": [
       "<div>\n",
       "<style scoped>\n",
       "    .dataframe tbody tr th:only-of-type {\n",
       "        vertical-align: middle;\n",
       "    }\n",
       "\n",
       "    .dataframe tbody tr th {\n",
       "        vertical-align: top;\n",
       "    }\n",
       "\n",
       "    .dataframe thead th {\n",
       "        text-align: right;\n",
       "    }\n",
       "</style>\n",
       "<table border=\"1\" class=\"dataframe\">\n",
       "  <thead>\n",
       "    <tr style=\"text-align: right;\">\n",
       "      <th></th>\n",
       "      <th>Unnamed: 0</th>\n",
       "      <th>1</th>\n",
       "      <th>4</th>\n",
       "      <th>89</th>\n",
       "      <th>83</th>\n",
       "      <th>3</th>\n",
       "      <th>5</th>\n",
       "      <th>88</th>\n",
       "      <th>85</th>\n",
       "      <th>90</th>\n",
       "      <th>2</th>\n",
       "      <th>7</th>\n",
       "      <th>54</th>\n",
       "      <th>6</th>\n",
       "      <th>64</th>\n",
       "      <th>8</th>\n",
       "    </tr>\n",
       "  </thead>\n",
       "  <tbody>\n",
       "    <tr>\n",
       "      <th>0</th>\n",
       "      <td>1</td>\n",
       "      <td>0</td>\n",
       "      <td>1</td>\n",
       "      <td>4</td>\n",
       "      <td>0</td>\n",
       "      <td>4</td>\n",
       "      <td>2</td>\n",
       "      <td>2</td>\n",
       "      <td>9</td>\n",
       "      <td>1</td>\n",
       "      <td>2</td>\n",
       "      <td>0</td>\n",
       "      <td>2</td>\n",
       "      <td>0</td>\n",
       "      <td>1</td>\n",
       "      <td>1</td>\n",
       "    </tr>\n",
       "    <tr>\n",
       "      <th>1</th>\n",
       "      <td>4</td>\n",
       "      <td>0</td>\n",
       "      <td>0</td>\n",
       "      <td>0</td>\n",
       "      <td>0</td>\n",
       "      <td>0</td>\n",
       "      <td>0</td>\n",
       "      <td>0</td>\n",
       "      <td>0</td>\n",
       "      <td>0</td>\n",
       "      <td>0</td>\n",
       "      <td>0</td>\n",
       "      <td>0</td>\n",
       "      <td>0</td>\n",
       "      <td>0</td>\n",
       "      <td>0</td>\n",
       "    </tr>\n",
       "    <tr>\n",
       "      <th>2</th>\n",
       "      <td>89</td>\n",
       "      <td>1</td>\n",
       "      <td>0</td>\n",
       "      <td>0</td>\n",
       "      <td>0</td>\n",
       "      <td>0</td>\n",
       "      <td>0</td>\n",
       "      <td>0</td>\n",
       "      <td>0</td>\n",
       "      <td>0</td>\n",
       "      <td>0</td>\n",
       "      <td>3</td>\n",
       "      <td>0</td>\n",
       "      <td>0</td>\n",
       "      <td>0</td>\n",
       "      <td>0</td>\n",
       "    </tr>\n",
       "    <tr>\n",
       "      <th>3</th>\n",
       "      <td>83</td>\n",
       "      <td>1</td>\n",
       "      <td>0</td>\n",
       "      <td>0</td>\n",
       "      <td>0</td>\n",
       "      <td>0</td>\n",
       "      <td>0</td>\n",
       "      <td>0</td>\n",
       "      <td>0</td>\n",
       "      <td>0</td>\n",
       "      <td>0</td>\n",
       "      <td>0</td>\n",
       "      <td>0</td>\n",
       "      <td>5</td>\n",
       "      <td>0</td>\n",
       "      <td>0</td>\n",
       "    </tr>\n",
       "    <tr>\n",
       "      <th>4</th>\n",
       "      <td>3</td>\n",
       "      <td>2</td>\n",
       "      <td>0</td>\n",
       "      <td>0</td>\n",
       "      <td>0</td>\n",
       "      <td>0</td>\n",
       "      <td>0</td>\n",
       "      <td>1</td>\n",
       "      <td>0</td>\n",
       "      <td>0</td>\n",
       "      <td>0</td>\n",
       "      <td>0</td>\n",
       "      <td>0</td>\n",
       "      <td>0</td>\n",
       "      <td>0</td>\n",
       "      <td>0</td>\n",
       "    </tr>\n",
       "  </tbody>\n",
       "</table>\n",
       "</div>"
      ],
      "text/plain": [
       "   Unnamed: 0  1  4  89  83  3  5  88  85  90  2  7  54  6  64  8\n",
       "0           1  0  1   4   0  4  2   2   9   1  2  0   2  0   1  1\n",
       "1           4  0  0   0   0  0  0   0   0   0  0  0   0  0   0  0\n",
       "2          89  1  0   0   0  0  0   0   0   0  0  3   0  0   0  0\n",
       "3          83  1  0   0   0  0  0   0   0   0  0  0   0  5   0  0\n",
       "4           3  2  0   0   0  0  0   1   0   0  0  0   0  0   0  0"
      ]
     },
     "execution_count": 4,
     "metadata": {},
     "output_type": "execute_result"
    }
   ],
   "source": [
    "P1.head()"
   ]
  },
  {
   "cell_type": "markdown",
   "metadata": {
    "id": "u7ND_H4RiLca"
   },
   "source": [
    "So, we have the data in the form of an adjacency matrix represented through a DataFrame.\n",
    "\n",
    "**Observations:**\n",
    "\n",
    "- The first column (Unnamed: 0) needs to be set as the index.\n",
    "- The column names and the indices should have the same data type.\n",
    "\n",
    "Let us check the points above."
   ]
  },
  {
   "cell_type": "code",
   "execution_count": 5,
   "metadata": {
    "id": "SQ0IGuOpBdsM"
   },
   "outputs": [],
   "source": [
    "# Setting first column as the index to achieve the adjacency matrix for each phase\n",
    "# Defining a list with the phases\n",
    "phases = [P1, P2, P3, P4, P5, P6, P7, P8, P9, P10, P11]\n",
    "\n",
    "# Now, let us set the first column as the index for all the DataFrames\n",
    "for p in phases:\n",
    "    p.set_index(p.columns[0], inplace = True)"
   ]
  },
  {
   "cell_type": "code",
   "execution_count": 6,
   "metadata": {
    "colab": {
     "base_uri": "https://localhost:8080/",
     "height": 516
    },
    "id": "z-GdNHllj-kB",
    "outputId": "bd9d1f6c-955c-4446-bdfc-b3007efffcac"
   },
   "outputs": [
    {
     "data": {
      "text/html": [
       "<div>\n",
       "<style scoped>\n",
       "    .dataframe tbody tr th:only-of-type {\n",
       "        vertical-align: middle;\n",
       "    }\n",
       "\n",
       "    .dataframe tbody tr th {\n",
       "        vertical-align: top;\n",
       "    }\n",
       "\n",
       "    .dataframe thead th {\n",
       "        text-align: right;\n",
       "    }\n",
       "</style>\n",
       "<table border=\"1\" class=\"dataframe\">\n",
       "  <thead>\n",
       "    <tr style=\"text-align: right;\">\n",
       "      <th></th>\n",
       "      <th>1</th>\n",
       "      <th>4</th>\n",
       "      <th>89</th>\n",
       "      <th>83</th>\n",
       "      <th>3</th>\n",
       "      <th>5</th>\n",
       "      <th>88</th>\n",
       "      <th>85</th>\n",
       "      <th>90</th>\n",
       "      <th>2</th>\n",
       "      <th>7</th>\n",
       "      <th>54</th>\n",
       "      <th>6</th>\n",
       "      <th>64</th>\n",
       "      <th>8</th>\n",
       "    </tr>\n",
       "    <tr>\n",
       "      <th>Unnamed: 0</th>\n",
       "      <th></th>\n",
       "      <th></th>\n",
       "      <th></th>\n",
       "      <th></th>\n",
       "      <th></th>\n",
       "      <th></th>\n",
       "      <th></th>\n",
       "      <th></th>\n",
       "      <th></th>\n",
       "      <th></th>\n",
       "      <th></th>\n",
       "      <th></th>\n",
       "      <th></th>\n",
       "      <th></th>\n",
       "      <th></th>\n",
       "    </tr>\n",
       "  </thead>\n",
       "  <tbody>\n",
       "    <tr>\n",
       "      <th>1</th>\n",
       "      <td>0</td>\n",
       "      <td>1</td>\n",
       "      <td>4</td>\n",
       "      <td>0</td>\n",
       "      <td>4</td>\n",
       "      <td>2</td>\n",
       "      <td>2</td>\n",
       "      <td>9</td>\n",
       "      <td>1</td>\n",
       "      <td>2</td>\n",
       "      <td>0</td>\n",
       "      <td>2</td>\n",
       "      <td>0</td>\n",
       "      <td>1</td>\n",
       "      <td>1</td>\n",
       "    </tr>\n",
       "    <tr>\n",
       "      <th>4</th>\n",
       "      <td>0</td>\n",
       "      <td>0</td>\n",
       "      <td>0</td>\n",
       "      <td>0</td>\n",
       "      <td>0</td>\n",
       "      <td>0</td>\n",
       "      <td>0</td>\n",
       "      <td>0</td>\n",
       "      <td>0</td>\n",
       "      <td>0</td>\n",
       "      <td>0</td>\n",
       "      <td>0</td>\n",
       "      <td>0</td>\n",
       "      <td>0</td>\n",
       "      <td>0</td>\n",
       "    </tr>\n",
       "    <tr>\n",
       "      <th>89</th>\n",
       "      <td>1</td>\n",
       "      <td>0</td>\n",
       "      <td>0</td>\n",
       "      <td>0</td>\n",
       "      <td>0</td>\n",
       "      <td>0</td>\n",
       "      <td>0</td>\n",
       "      <td>0</td>\n",
       "      <td>0</td>\n",
       "      <td>0</td>\n",
       "      <td>3</td>\n",
       "      <td>0</td>\n",
       "      <td>0</td>\n",
       "      <td>0</td>\n",
       "      <td>0</td>\n",
       "    </tr>\n",
       "    <tr>\n",
       "      <th>83</th>\n",
       "      <td>1</td>\n",
       "      <td>0</td>\n",
       "      <td>0</td>\n",
       "      <td>0</td>\n",
       "      <td>0</td>\n",
       "      <td>0</td>\n",
       "      <td>0</td>\n",
       "      <td>0</td>\n",
       "      <td>0</td>\n",
       "      <td>0</td>\n",
       "      <td>0</td>\n",
       "      <td>0</td>\n",
       "      <td>5</td>\n",
       "      <td>0</td>\n",
       "      <td>0</td>\n",
       "    </tr>\n",
       "    <tr>\n",
       "      <th>3</th>\n",
       "      <td>2</td>\n",
       "      <td>0</td>\n",
       "      <td>0</td>\n",
       "      <td>0</td>\n",
       "      <td>0</td>\n",
       "      <td>0</td>\n",
       "      <td>1</td>\n",
       "      <td>0</td>\n",
       "      <td>0</td>\n",
       "      <td>0</td>\n",
       "      <td>0</td>\n",
       "      <td>0</td>\n",
       "      <td>0</td>\n",
       "      <td>0</td>\n",
       "      <td>0</td>\n",
       "    </tr>\n",
       "    <tr>\n",
       "      <th>5</th>\n",
       "      <td>0</td>\n",
       "      <td>0</td>\n",
       "      <td>0</td>\n",
       "      <td>0</td>\n",
       "      <td>0</td>\n",
       "      <td>0</td>\n",
       "      <td>0</td>\n",
       "      <td>0</td>\n",
       "      <td>0</td>\n",
       "      <td>0</td>\n",
       "      <td>0</td>\n",
       "      <td>0</td>\n",
       "      <td>0</td>\n",
       "      <td>0</td>\n",
       "      <td>0</td>\n",
       "    </tr>\n",
       "    <tr>\n",
       "      <th>88</th>\n",
       "      <td>1</td>\n",
       "      <td>0</td>\n",
       "      <td>0</td>\n",
       "      <td>0</td>\n",
       "      <td>1</td>\n",
       "      <td>0</td>\n",
       "      <td>0</td>\n",
       "      <td>3</td>\n",
       "      <td>0</td>\n",
       "      <td>0</td>\n",
       "      <td>0</td>\n",
       "      <td>0</td>\n",
       "      <td>1</td>\n",
       "      <td>0</td>\n",
       "      <td>0</td>\n",
       "    </tr>\n",
       "    <tr>\n",
       "      <th>85</th>\n",
       "      <td>1</td>\n",
       "      <td>0</td>\n",
       "      <td>0</td>\n",
       "      <td>0</td>\n",
       "      <td>0</td>\n",
       "      <td>0</td>\n",
       "      <td>2</td>\n",
       "      <td>0</td>\n",
       "      <td>0</td>\n",
       "      <td>0</td>\n",
       "      <td>0</td>\n",
       "      <td>0</td>\n",
       "      <td>5</td>\n",
       "      <td>0</td>\n",
       "      <td>0</td>\n",
       "    </tr>\n",
       "    <tr>\n",
       "      <th>90</th>\n",
       "      <td>0</td>\n",
       "      <td>0</td>\n",
       "      <td>0</td>\n",
       "      <td>0</td>\n",
       "      <td>0</td>\n",
       "      <td>0</td>\n",
       "      <td>0</td>\n",
       "      <td>0</td>\n",
       "      <td>0</td>\n",
       "      <td>0</td>\n",
       "      <td>0</td>\n",
       "      <td>0</td>\n",
       "      <td>0</td>\n",
       "      <td>0</td>\n",
       "      <td>0</td>\n",
       "    </tr>\n",
       "    <tr>\n",
       "      <th>2</th>\n",
       "      <td>0</td>\n",
       "      <td>0</td>\n",
       "      <td>0</td>\n",
       "      <td>0</td>\n",
       "      <td>0</td>\n",
       "      <td>0</td>\n",
       "      <td>0</td>\n",
       "      <td>0</td>\n",
       "      <td>0</td>\n",
       "      <td>0</td>\n",
       "      <td>0</td>\n",
       "      <td>0</td>\n",
       "      <td>0</td>\n",
       "      <td>0</td>\n",
       "      <td>0</td>\n",
       "    </tr>\n",
       "    <tr>\n",
       "      <th>7</th>\n",
       "      <td>0</td>\n",
       "      <td>0</td>\n",
       "      <td>2</td>\n",
       "      <td>0</td>\n",
       "      <td>0</td>\n",
       "      <td>0</td>\n",
       "      <td>0</td>\n",
       "      <td>0</td>\n",
       "      <td>0</td>\n",
       "      <td>0</td>\n",
       "      <td>0</td>\n",
       "      <td>0</td>\n",
       "      <td>0</td>\n",
       "      <td>0</td>\n",
       "      <td>0</td>\n",
       "    </tr>\n",
       "    <tr>\n",
       "      <th>54</th>\n",
       "      <td>0</td>\n",
       "      <td>0</td>\n",
       "      <td>0</td>\n",
       "      <td>0</td>\n",
       "      <td>0</td>\n",
       "      <td>0</td>\n",
       "      <td>0</td>\n",
       "      <td>0</td>\n",
       "      <td>0</td>\n",
       "      <td>0</td>\n",
       "      <td>0</td>\n",
       "      <td>0</td>\n",
       "      <td>0</td>\n",
       "      <td>0</td>\n",
       "      <td>0</td>\n",
       "    </tr>\n",
       "    <tr>\n",
       "      <th>6</th>\n",
       "      <td>0</td>\n",
       "      <td>0</td>\n",
       "      <td>0</td>\n",
       "      <td>0</td>\n",
       "      <td>0</td>\n",
       "      <td>0</td>\n",
       "      <td>1</td>\n",
       "      <td>0</td>\n",
       "      <td>0</td>\n",
       "      <td>0</td>\n",
       "      <td>0</td>\n",
       "      <td>0</td>\n",
       "      <td>0</td>\n",
       "      <td>0</td>\n",
       "      <td>0</td>\n",
       "    </tr>\n",
       "    <tr>\n",
       "      <th>64</th>\n",
       "      <td>0</td>\n",
       "      <td>0</td>\n",
       "      <td>0</td>\n",
       "      <td>0</td>\n",
       "      <td>0</td>\n",
       "      <td>0</td>\n",
       "      <td>0</td>\n",
       "      <td>0</td>\n",
       "      <td>0</td>\n",
       "      <td>0</td>\n",
       "      <td>0</td>\n",
       "      <td>0</td>\n",
       "      <td>0</td>\n",
       "      <td>0</td>\n",
       "      <td>0</td>\n",
       "    </tr>\n",
       "    <tr>\n",
       "      <th>8</th>\n",
       "      <td>0</td>\n",
       "      <td>0</td>\n",
       "      <td>0</td>\n",
       "      <td>0</td>\n",
       "      <td>0</td>\n",
       "      <td>0</td>\n",
       "      <td>0</td>\n",
       "      <td>0</td>\n",
       "      <td>0</td>\n",
       "      <td>0</td>\n",
       "      <td>0</td>\n",
       "      <td>0</td>\n",
       "      <td>0</td>\n",
       "      <td>0</td>\n",
       "      <td>0</td>\n",
       "    </tr>\n",
       "  </tbody>\n",
       "</table>\n",
       "</div>"
      ],
      "text/plain": [
       "            1  4  89  83  3  5  88  85  90  2  7  54  6  64  8\n",
       "Unnamed: 0                                                    \n",
       "1           0  1   4   0  4  2   2   9   1  2  0   2  0   1  1\n",
       "4           0  0   0   0  0  0   0   0   0  0  0   0  0   0  0\n",
       "89          1  0   0   0  0  0   0   0   0  0  3   0  0   0  0\n",
       "83          1  0   0   0  0  0   0   0   0  0  0   0  5   0  0\n",
       "3           2  0   0   0  0  0   1   0   0  0  0   0  0   0  0\n",
       "5           0  0   0   0  0  0   0   0   0  0  0   0  0   0  0\n",
       "88          1  0   0   0  1  0   0   3   0  0  0   0  1   0  0\n",
       "85          1  0   0   0  0  0   2   0   0  0  0   0  5   0  0\n",
       "90          0  0   0   0  0  0   0   0   0  0  0   0  0   0  0\n",
       "2           0  0   0   0  0  0   0   0   0  0  0   0  0   0  0\n",
       "7           0  0   2   0  0  0   0   0   0  0  0   0  0   0  0\n",
       "54          0  0   0   0  0  0   0   0   0  0  0   0  0   0  0\n",
       "6           0  0   0   0  0  0   1   0   0  0  0   0  0   0  0\n",
       "64          0  0   0   0  0  0   0   0   0  0  0   0  0   0  0\n",
       "8           0  0   0   0  0  0   0   0   0  0  0   0  0   0  0"
      ]
     },
     "execution_count": 6,
     "metadata": {},
     "output_type": "execute_result"
    }
   ],
   "source": [
    "P1"
   ]
  },
  {
   "cell_type": "code",
   "execution_count": 7,
   "metadata": {
    "colab": {
     "base_uri": "https://localhost:8080/"
    },
    "id": "O6jhUYHpjoHl",
    "outputId": "1832c995-49fa-42a6-8f38-90c92c765f44"
   },
   "outputs": [
    {
     "data": {
      "text/plain": [
       "(Int64Index([1, 4, 89, 83, 3, 5, 88, 85, 90, 2, 7, 54, 6, 64, 8], dtype='int64', name='Unnamed: 0'),\n",
       " Index(['1', '4', '89', '83', '3', '5', '88', '85', '90', '2', '7', '54', '6',\n",
       "        '64', '8'],\n",
       "       dtype='object'))"
      ]
     },
     "execution_count": 7,
     "metadata": {},
     "output_type": "execute_result"
    }
   ],
   "source": [
    "# Now, that we have set the index, check for the consistency in column names and indices data type\n",
    "P1.index, P1.columns"
   ]
  },
  {
   "cell_type": "markdown",
   "metadata": {},
   "source": [
    "**Observation:**\n",
    "\n",
    "- The above output shows that the indices are of integer data type and the column names are of object data type.\n",
    "- Let's convert the column names to integer data types."
   ]
  },
  {
   "cell_type": "code",
   "execution_count": 8,
   "metadata": {
    "id": "N_-bVPzSBdsP"
   },
   "outputs": [],
   "source": [
    "# Let's convert the column names to integer types\n",
    "phases = [P1, P2, P3, P4, P5, P6, P7, P8, P9, P10, P11]\n",
    "\n",
    "col = []\n",
    "\n",
    "for p in phases:                 # Running the loop for each phase (11)\n",
    "    for i in p.columns:          # Running the loop for each column of each phase\n",
    "        col.append(int(i))       # Appending column names to the list 'col'\n",
    "    p.columns = col              # Updating the column names for each phase\n",
    "    col = []                     # Reinitiating the list 'col' as an empty list "
   ]
  },
  {
   "cell_type": "code",
   "execution_count": 9,
   "metadata": {
    "colab": {
     "base_uri": "https://localhost:8080/"
    },
    "id": "jjtRrguWkbeP",
    "outputId": "21b70f11-a77d-4ce4-ac24-f7dbe8eea690"
   },
   "outputs": [
    {
     "data": {
      "text/plain": [
       "(Int64Index([1, 4, 89, 83, 3, 5, 88, 85, 90, 2, 7, 54, 6, 64, 8], dtype='int64', name='Unnamed: 0'),\n",
       " Int64Index([1, 4, 89, 83, 3, 5, 88, 85, 90, 2, 7, 54, 6, 64, 8], dtype='int64'))"
      ]
     },
     "execution_count": 9,
     "metadata": {},
     "output_type": "execute_result"
    }
   ],
   "source": [
    "# Let's check if the transformation worked\n",
    "P1.index, P1.columns"
   ]
  },
  {
   "cell_type": "markdown",
   "metadata": {},
   "source": [
    "**Observation:**\n",
    "\n",
    "- We observe that the transformation has worked. Both, indices as well as column names, are of integer data type.  "
   ]
  },
  {
   "cell_type": "markdown",
   "metadata": {
    "id": "03ZZidyY9enc"
   },
   "source": [
    "## **Generating Graphs**\n",
    "\n",
    "Now, that we have created the adjacency matrices, let us now try to create graphs out of these adjacency matrices.\n",
    "\n",
    "- We will use the from_pandas_adjacency function and pass the adjacency matrix for each phase as a DataFrame."
   ]
  },
  {
   "cell_type": "code",
   "execution_count": 10,
   "metadata": {
    "colab": {
     "base_uri": "https://localhost:8080/"
    },
    "id": "g6Vy6pXfa35o",
    "outputId": "138cdc5d-6b79-4292-f4ed-62ef2cd57ec6"
   },
   "outputs": [
    {
     "name": "stdout",
     "output_type": "stream",
     "text": [
      "graph1\n",
      "[5, 83, 3, 90, 88, 85, 89, 4, 8, 64, 6, 54, 7, 2, 1]\n",
      "graph2\n",
      "[3, 85, 83, 90, 64, 6, 2, 7, 86, 88, 89, 12, 11, 9, 76, 98, 47, 97, 56, 10, 55, 8, 5, 1]\n",
      "graph3\n",
      "[5, 83, 88, 48, 89, 3, 7, 6, 52, 2, 90, 86, 85, 4, 12, 51, 13, 99, 50, 107, 49, 84, 32, 11, 35, 34, 9, 76, 56, 10, 55, 8, 1]\n",
      "graph4\n",
      "[5, 83, 88, 90, 85, 3, 76, 47, 6, 106, 8, 7, 86, 89, 4, 15, 52, 14, 12, 31, 109, 63, 51, 13, 107, 49, 84, 53, 11, 35, 9, 2, 1]\n",
      "graph5\n",
      "[5, 88, 83, 6, 86, 76, 89, 3, 32, 100, 34, 11, 8, 15, 55, 2, 85, 4, 19, 82, 25, 17, 18, 108, 12, 31, 13, 84, 9, 47, 7, 1]\n",
      "graph6\n",
      "[3, 8, 11, 13, 84, 12, 85, 82, 15, 83, 5, 19, 25, 31, 76, 2, 4, 20, 87, 77, 78, 18, 14, 9, 6, 1]\n",
      "graph7\n",
      "[3, 18, 83, 81, 2, 34, 9, 14, 88, 8, 55, 17, 5, 11, 69, 12, 77, 19, 85, 4, 15, 28, 75, 16, 68, 61, 79, 74, 22, 20, 87, 78, 76, 6, 62, 1]\n",
      "graph8\n",
      "[3, 8, 18, 59, 84, 80, 78, 35, 14, 39, 23, 73, 12, 17, 87, 34, 83, 85, 37, 33, 16, 19, 25, 11, 76, 2, 4, 36, 91, 38, 67, 81, 28, 22, 20, 77, 82, 13, 9, 6, 86, 1]\n",
      "graph9\n",
      "[3, 13, 17, 29, 30, 76, 83, 82, 11, 2, 18, 12, 7, 90, 89, 41, 101, 105, 46, 96, 36, 37, 59, 81, 16, 79, 87, 78, 14, 8, 6, 85, 88, 1]\n",
      "graph10\n",
      "[3, 65, 40, 87, 37, 16, 84, 85, 105, 73, 70, 58, 44, 81, 22, 82, 18, 9, 4, 45, 71, 42, 93, 95, 27, 104, 103, 21, 41, 46, 96, 24, 38, 19, 17, 14, 12, 76, 8, 86, 83, 1]\n",
      "graph11\n",
      "[24, 96, 61, 79, 82, 46, 26, 94, 87, 18, 17, 14, 88, 83, 65, 66, 92, 72, 102, 43, 42, 93, 27, 41, 101, 58, 36, 37, 59, 81, 16, 78, 12, 13, 84, 11, 76, 86, 85, 3, 1]\n"
     ]
    }
   ],
   "source": [
    "graphs = []\n",
    "\n",
    "for i, p in enumerate(phases):\n",
    "    g = 'graph' + str(i + 1) \n",
    "    \n",
    "    print(g)\n",
    "    \n",
    "    g = nx.from_pandas_adjacency(p)\n",
    "    \n",
    "    graphs.append(g)\n",
    "    \n",
    "    print(g.nodes())"
   ]
  },
  {
   "cell_type": "markdown",
   "metadata": {
    "id": "fxlErb_JBdsR"
   },
   "source": [
    "## **Visualizing the Graphs**\n",
    "\n",
    "Let us now visualize the graphs that we have created above."
   ]
  },
  {
   "cell_type": "markdown",
   "metadata": {},
   "source": [
    "### **Note:** In case you face an error while running the below code, please upgrade the decorator library, by running the following code, to resolve the error.\n",
    "\n",
    "**!pip install --upgrade decorator**"
   ]
  },
  {
   "cell_type": "code",
   "execution_count": 11,
   "metadata": {
    "colab": {
     "base_uri": "https://localhost:8080/",
     "height": 1000
    },
    "id": "WVLaN5mH-bG3",
    "outputId": "67ebc406-c101-4073-b35a-9aa28bf7b454",
    "scrolled": false
   },
   "outputs": [
    {
     "name": "stdout",
     "output_type": "stream",
     "text": [
      "****************************************************************************************\n",
      "Graph for phase: 1\n"
     ]
    },
    {
     "ename": "TypeError",
     "evalue": "'_AxesStack' object is not callable",
     "output_type": "error",
     "traceback": [
      "\u001b[0;31m---------------------------------------------------------------------------\u001b[0m",
      "\u001b[0;31mTypeError\u001b[0m                                 Traceback (most recent call last)",
      "Cell \u001b[0;32mIn[11], line 6\u001b[0m\n\u001b[1;32m      2\u001b[0m \u001b[38;5;28mprint\u001b[39m(\u001b[38;5;124m\"\u001b[39m\u001b[38;5;124m****************************************************************************************\u001b[39m\u001b[38;5;124m\"\u001b[39m)\n\u001b[1;32m      4\u001b[0m \u001b[38;5;28mprint\u001b[39m(\u001b[38;5;124m\"\u001b[39m\u001b[38;5;124mGraph for phase:\u001b[39m\u001b[38;5;124m\"\u001b[39m, i \u001b[38;5;241m+\u001b[39m \u001b[38;5;241m1\u001b[39m)\n\u001b[0;32m----> 6\u001b[0m \u001b[43mnx\u001b[49m\u001b[38;5;241;43m.\u001b[39;49m\u001b[43mdraw\u001b[49m\u001b[43m(\u001b[49m\u001b[43mg\u001b[49m\u001b[43m,\u001b[49m\u001b[43m \u001b[49m\u001b[43mwith_labels\u001b[49m\u001b[43m \u001b[49m\u001b[38;5;241;43m=\u001b[39;49m\u001b[43m \u001b[49m\u001b[38;5;28;43;01mTrue\u001b[39;49;00m\u001b[43m)\u001b[49m\n\u001b[1;32m      8\u001b[0m plt\u001b[38;5;241m.\u001b[39mtitle(\u001b[38;5;28mstr\u001b[39m(g))\n\u001b[1;32m     10\u001b[0m plt\u001b[38;5;241m.\u001b[39mshow()\n",
      "File \u001b[0;32m~/anaconda3/lib/python3.10/site-packages/networkx/drawing/nx_pylab.py:113\u001b[0m, in \u001b[0;36mdraw\u001b[0;34m(G, pos, ax, **kwds)\u001b[0m\n\u001b[1;32m    111\u001b[0m cf\u001b[38;5;241m.\u001b[39mset_facecolor(\u001b[38;5;124m\"\u001b[39m\u001b[38;5;124mw\u001b[39m\u001b[38;5;124m\"\u001b[39m)\n\u001b[1;32m    112\u001b[0m \u001b[38;5;28;01mif\u001b[39;00m ax \u001b[38;5;129;01mis\u001b[39;00m \u001b[38;5;28;01mNone\u001b[39;00m:\n\u001b[0;32m--> 113\u001b[0m     \u001b[38;5;28;01mif\u001b[39;00m \u001b[43mcf\u001b[49m\u001b[38;5;241;43m.\u001b[39;49m\u001b[43m_axstack\u001b[49m\u001b[43m(\u001b[49m\u001b[43m)\u001b[49m \u001b[38;5;129;01mis\u001b[39;00m \u001b[38;5;28;01mNone\u001b[39;00m:\n\u001b[1;32m    114\u001b[0m         ax \u001b[38;5;241m=\u001b[39m cf\u001b[38;5;241m.\u001b[39madd_axes((\u001b[38;5;241m0\u001b[39m, \u001b[38;5;241m0\u001b[39m, \u001b[38;5;241m1\u001b[39m, \u001b[38;5;241m1\u001b[39m))\n\u001b[1;32m    115\u001b[0m     \u001b[38;5;28;01melse\u001b[39;00m:\n",
      "\u001b[0;31mTypeError\u001b[0m: '_AxesStack' object is not callable"
     ]
    },
    {
     "data": {
      "text/plain": [
       "<Figure size 640x480 with 0 Axes>"
      ]
     },
     "metadata": {},
     "output_type": "display_data"
    }
   ],
   "source": [
    "for i, g in enumerate(graphs):\n",
    "    print(\"****************************************************************************************\")\n",
    "    \n",
    "    print(\"Graph for phase:\", i + 1)\n",
    "    \n",
    "    nx.draw(g, with_labels = True)\n",
    "    \n",
    "    plt.title(str(g))\n",
    "    \n",
    "    plt.show()"
   ]
  },
  {
   "cell_type": "markdown",
   "metadata": {
    "id": "U9jEnQDwBdsX"
   },
   "source": [
    "## **Centrality Measures** \n",
    "\n",
    "Let us now explore the various centrality measures for the above graphs."
   ]
  },
  {
   "cell_type": "markdown",
   "metadata": {
    "id": "QFySz8jhArMM"
   },
   "source": [
    "### **a. Degree Centrality**\n",
    "\n",
    "- Let us now calculate the degree centrality"
   ]
  },
  {
   "cell_type": "code",
   "execution_count": null,
   "metadata": {
    "id": "ZYPVLRY8BdsY"
   },
   "outputs": [],
   "source": [
    "# Let us store the degree centralities for each node of a graph in a dictionary\n",
    "deg_cen = {}\n",
    "\n",
    "for g in graphs:\n",
    "    deg_cen[g] = nx.degree_centrality(g)"
   ]
  },
  {
   "cell_type": "code",
   "execution_count": null,
   "metadata": {
    "colab": {
     "base_uri": "https://localhost:8080/"
    },
    "id": "IJ4xTq9QDNBd",
    "outputId": "cb6ff7e5-3eb0-4790-f704-095175b9ebe7"
   },
   "outputs": [],
   "source": [
    "# Let us look at the deg_cen dictionary\n",
    "deg_cen"
   ]
  },
  {
   "cell_type": "markdown",
   "metadata": {
    "id": "WcX-YIz3RbgQ"
   },
   "source": [
    "### **b. Eigenvector, Betweenness, and Closeness Centrality measures**"
   ]
  },
  {
   "cell_type": "code",
   "execution_count": null,
   "metadata": {
    "id": "gLHt7j5lZma0"
   },
   "outputs": [],
   "source": [
    "# Similarily, we can generate other centrality measures\n",
    "# Let us try all the measures that we learnt\n",
    "\n",
    "# Eigenvector Centrality\n",
    "eig_cen = {}\n",
    "\n",
    "for g in graphs:\n",
    "    eig_cen[g] = nx.eigenvector_centrality(g)\n",
    "\n",
    "# Betweenness Centrality\n",
    "betw_cen = {}\n",
    "\n",
    "for g in graphs:\n",
    "    betw_cen[g] = nx.betweenness_centrality(g)\n",
    "\n",
    "# Closeness Centrality\n",
    "clo_cen = {}\n",
    "\n",
    "for g in graphs:\n",
    "    clo_cen[g] = nx.closeness_centrality(g)"
   ]
  },
  {
   "cell_type": "markdown",
   "metadata": {
    "id": "bhQhRcKzGl1D"
   },
   "source": [
    "**Observations:**\n",
    "\n",
    "- We have now created the dictionaries with the centrality measures\n",
    "- The dictionaries are deg_cen, eig_cen, betw_cen, and clo_cen.\n",
    "- We can sort the dictionaries, in descending order, to obtain the nodes that are the most important."
   ]
  },
  {
   "cell_type": "code",
   "execution_count": null,
   "metadata": {
    "colab": {
     "base_uri": "https://localhost:8080/"
    },
    "id": "XB810n34HENo",
    "outputId": "cde4ee57-9699-4e3a-b5a0-c9174d2e0077"
   },
   "outputs": [],
   "source": [
    "# Let us now sort the degree centrality measure and identify the important nodes\n",
    "\n",
    "for ix, g in enumerate(graphs):\n",
    "    temp_dict = {}\n",
    "    for w in sorted(deg_cen[g], key = deg_cen[g].get, reverse = True):\n",
    "        temp_dict[w] = deg_cen[g][w]\n",
    "    print(\"Sorted importance of nodes in terms of deg_cen for Phase {} is {}\".format(ix + 1, list(temp_dict.keys())[:5]))\n",
    "    print()"
   ]
  },
  {
   "cell_type": "markdown",
   "metadata": {
    "id": "9LecChJhX0mw"
   },
   "source": [
    "- We generated the degree centrality based top 5 most important nodes in each phase.\n",
    "- We can go ahead and repeat the same exercise for other centrality measures."
   ]
  },
  {
   "cell_type": "markdown",
   "metadata": {
    "id": "DShPJa9RYSPW"
   },
   "source": [
    "## **Understanding the variation of node importance across phases**\n",
    "\n",
    "- From the above analysis, we figure out that some nodes appear to be more important than others, and we will focus our attention on analyzing those nodes.\n",
    "\n",
    "- Let us take out Node1, Node3, and Node12 and visualize their importance across phases. We will look at the betweenness and degree centrality only. You are encouraged to try out the same for other measures."
   ]
  },
  {
   "cell_type": "code",
   "execution_count": null,
   "metadata": {
    "id": "1IUzgL-WYsao"
   },
   "outputs": [],
   "source": [
    "# Let us first start with node 1\n",
    "\n",
    "# Node 1\n",
    "node1_deg = []\n",
    "\n",
    "phases = []\n",
    "\n",
    "for ix, g in enumerate(graphs):\n",
    "    node1_deg.append(deg_cen[g][1]*100)\n",
    "    phases.append(ix + 1)\n",
    "\n",
    "node1_bet = []\n",
    "\n",
    "for ix, g in enumerate(graphs):\n",
    "    node1_bet.append(betw_cen[g][1]*100)\n",
    "\n",
    "# Now, let us calculate the same for node 3 and 12 as well\n",
    "\n",
    "# Node 3\n",
    "node3_deg = []\n",
    "\n",
    "for ix, g in enumerate(graphs):\n",
    "    node3_deg.append(deg_cen[g][3]*100)\n",
    "\n",
    "node3_bet = []\n",
    "\n",
    "for ix, g in enumerate(graphs):\n",
    "    node3_bet.append(betw_cen[g][3]*100)\n",
    "\n",
    "# Node 12\n",
    "node12_deg = []\n",
    "\n",
    "for ix, g in enumerate(graphs):\n",
    "    if (12 in deg_cen[g].keys()):\n",
    "        node12_deg.append(deg_cen[g][12]*100)\n",
    "    else:\n",
    "        node12_deg.append(None)\n",
    "\n",
    "node12_bet = []\n",
    "\n",
    "for ix, g in enumerate(graphs):\n",
    "    if (12 in betw_cen[g].keys()):\n",
    "        node12_bet.append(betw_cen[g][12]*100)\n",
    "    else:\n",
    "        node12_bet.append(None)"
   ]
  },
  {
   "cell_type": "code",
   "execution_count": null,
   "metadata": {
    "colab": {
     "base_uri": "https://localhost:8080/",
     "height": 442
    },
    "id": "Xa371wmzYsgA",
    "outputId": "96dbd50f-657d-4303-ff97-4bb8ee142bcb"
   },
   "outputs": [],
   "source": [
    "# Now, let us plot the importance of nodes across phases\n",
    "\n",
    "# Ploting Degree centrality for nodes 1, 3, and 12\n",
    "plt.figure(figsize = (10, 7))\n",
    "\n",
    "plt.plot(phases, node1_deg, label = 'Node 1')\n",
    "\n",
    "plt.plot(phases, node3_deg, label = 'Node 3')\n",
    "\n",
    "plt.plot(phases, node12_deg, label = 'Node 12')\n",
    "\n",
    "plt.ylabel('Degree centrality(*100)')\n",
    "\n",
    "plt.xlabel('Phases')\n",
    "\n",
    "plt.legend()\n",
    "\n",
    "plt.show()"
   ]
  },
  {
   "cell_type": "code",
   "execution_count": null,
   "metadata": {
    "colab": {
     "base_uri": "https://localhost:8080/",
     "height": 442
    },
    "id": "ulrLQv7Ugx8D",
    "outputId": "e7e971b9-7a2b-48c7-a27d-eca2f9f55702"
   },
   "outputs": [],
   "source": [
    "# Plotting the Betweenness Centrality for nodes 1, 3, and 12\n",
    "\n",
    "plt.figure(figsize = (10, 7))\n",
    "\n",
    "plt.plot(phases, node1_bet,  label = 'Node 1')\n",
    "\n",
    "plt.plot(phases, node3_bet, label = 'Node 3')\n",
    "\n",
    "plt.plot(phases, node12_bet, label = 'Node 12')\n",
    "\n",
    "plt.ylabel('Betweenness centrality(*100)')\n",
    "\n",
    "plt.xlabel('Phases')\n",
    "\n",
    "plt.legend()\n",
    "\n",
    "plt.show()"
   ]
  },
  {
   "cell_type": "markdown",
   "metadata": {
    "id": "PAzGIOCNsG0-"
   },
   "source": [
    "## **Conclusion:**\n",
    "\n",
    "- We carried out the analysis on the network and figured out techniques to read adjacency matrices into graphs.\n",
    "- We later visualized the graphs, created centrality measures, and identified the important nodes - N1 (Daniel Serero), N3 (Pierre Perlini), N12 (Ernesto Morales).\n",
    "- We studied and plotted the variation in the centrality of the important nodes across phases in a bid to understand the affect of disruption in the network."
   ]
  },
  {
   "cell_type": "markdown",
   "metadata": {
    "id": "gSyiSBrLtlOO"
   },
   "source": [
    "## **Bonus: We can highlight the important nodes in graphs**\n",
    "\n",
    "- Let's have a look at the phase 2 graph: graph2"
   ]
  },
  {
   "cell_type": "code",
   "execution_count": null,
   "metadata": {
    "colab": {
     "base_uri": "https://localhost:8080/",
     "height": 319
    },
    "id": "Z9ISpjycnWT0",
    "outputId": "31a4a895-96b9-46a4-a4f9-6deeb2843c23"
   },
   "outputs": [],
   "source": [
    "graph2 = nx.from_pandas_adjacency(P2)\n",
    "\n",
    "color = []\n",
    "\n",
    "for node in graph2:\n",
    "    if (node == 1 or node == 12  or node == 3):\n",
    "        color.append('red')\n",
    "    else:\n",
    "        color.append('green')\n",
    "\n",
    "nx.draw_spring(graph2, node_color = color, with_labels = True)"
   ]
  },
  {
   "cell_type": "markdown",
   "metadata": {
    "id": "bkJ-um6tv-Uf"
   },
   "source": [
    "- The important nodes, i.e., nodes 1, 3, and 12 have been marked as red."
   ]
  }
 ],
 "metadata": {
  "colab": {
   "collapsed_sections": [],
   "name": "LVC 2 Practical Application - CAVIAR.ipynb",
   "provenance": []
  },
  "kernelspec": {
   "display_name": "Python 3 (ipykernel)",
   "language": "python",
   "name": "python3"
  },
  "language_info": {
   "codemirror_mode": {
    "name": "ipython",
    "version": 3
   },
   "file_extension": ".py",
   "mimetype": "text/x-python",
   "name": "python",
   "nbconvert_exporter": "python",
   "pygments_lexer": "ipython3",
   "version": "3.10.9"
  }
 },
 "nbformat": 4,
 "nbformat_minor": 1
}
