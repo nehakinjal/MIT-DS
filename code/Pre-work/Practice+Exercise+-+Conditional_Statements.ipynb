{
 "cells": [
  {
   "cell_type": "markdown",
   "metadata": {},
   "source": [
    "# CONDITIONAL STATEMENTS EXERCISE"
   ]
  },
  {
   "cell_type": "markdown",
   "metadata": {},
   "source": [
    "---------------"
   ]
  },
  {
   "cell_type": "markdown",
   "metadata": {},
   "source": [
    "### 1. Check if a is equal to 10, If yes, print \"Hello\", else print \"Good Bye\"\n",
    "a = 56"
   ]
  },
  {
   "cell_type": "code",
   "execution_count": null,
   "metadata": {},
   "outputs": [],
   "source": []
  },
  {
   "cell_type": "markdown",
   "metadata": {},
   "source": [
    "### 2. Check whether a number is even or odd\n",
    "a = 2020"
   ]
  },
  {
   "cell_type": "code",
   "execution_count": null,
   "metadata": {},
   "outputs": [],
   "source": []
  },
  {
   "cell_type": "markdown",
   "metadata": {},
   "source": [
    "### 3.  Check whether the area of the rectangle is greater than the perimeter of the rectangle\n",
    "length = 5\n",
    "breadth = 10\n",
    "\n",
    "Hint: Area of rectangle = length * breadth \n",
    "\n",
    "Hint: Perimeter of rectangle = 2 * (length + breadth)"
   ]
  },
  {
   "cell_type": "code",
   "execution_count": 10,
   "metadata": {},
   "outputs": [
    {
     "name": "stdout",
     "output_type": "stream",
     "text": [
      "5 8\n",
      "Shape with 4 sides of lengths <5, 5, 8, 8> has area of 40\n"
     ]
    }
   ],
   "source": [
    "class Rectangle:\n",
    "    \"\"\" Rectangle class \"\"\"\n",
    "    \n",
    "    length = 0.0\n",
    "    breadth = 0.0\n",
    "    \n",
    "    def __init__ (self, l, b):\n",
    "        self.length = l\n",
    "        self.breadth = b\n",
    "        print(self.length,self.breadth)\n",
    "        \n",
    "    def area(self):\n",
    "        return (self.length*self.breadth)\n",
    "    \n",
    "    def sidesCount():\n",
    "        return 4\n",
    "    \n",
    "x = Rectangle(5,8)\n",
    "\n",
    "output = str.format(\"Shape with {0} sides of lengths <{1}, {1}, {2}, {2}> has area of {3}\",\n",
    "                    Rectangle.sidesCount(),\n",
    "                   x.length,\n",
    "                   x.breadth,\n",
    "                   x.area())\n",
    "\n",
    "print(output)"
   ]
  },
  {
   "cell_type": "markdown",
   "metadata": {},
   "source": [
    "### 4.Calculate the average marks of a student in 5 subjects and give grades accordingly:\n",
    "If average>90 then Grade = A\n",
    "\n",
    "If average>80 then Grade = B\n",
    "\n",
    "If average>70 then Grade = C\n",
    "\n",
    "If average>60 then Grade = D\n",
    "\n",
    "If average>50 then Grade = E\n",
    "\n",
    "else Fail\n",
    "\n",
    "Marks in subject 1= 72\n",
    "\n",
    "Marks in subject 2= 85\n",
    "\n",
    "Marks in subject 3= 96\n",
    "\n",
    "Marks in subject 4= 42\n",
    "\n",
    "Marks in subject 5= 95"
   ]
  },
  {
   "cell_type": "code",
   "execution_count": 25,
   "metadata": {},
   "outputs": [
    {
     "name": "stdout",
     "output_type": "stream",
     "text": [
      "Enter score:9\n",
      "Your grade: Fail\n",
      "Enter score:88\n",
      "Your grade: B\n",
      "Enter score:99\n",
      "Your grade: A\n",
      "Enter score:96\n",
      "Your grade: A\n",
      "Enter score:50\n",
      "Your grade: E\n",
      "Enter score:40\n",
      "Your grade: Fail\n",
      "Enter score:60\n",
      "Your grade: D\n",
      "Enter score:70\n",
      "Your grade: C\n",
      "Enter score:77\n",
      "Your grade: C\n",
      "Enter score:81\n",
      "Your grade: B\n",
      "Enter score:91\n",
      "Your grade: A\n",
      "Enter score:0\n",
      "Your grade: Fail\n"
     ]
    }
   ],
   "source": [
    "# marks = [72, 85, 96, 42, 95]\n",
    "# avg = sum(marks)/len(marks)\n",
    "\n",
    "\n",
    "def grade(avg):\n",
    "\n",
    "    tenPoint= int(avg/10)\n",
    "    grade=\"Fail\"\n",
    "    \n",
    "    match(tenPoint):\n",
    "        case 9:\n",
    "            grade = \"A\" \n",
    "        case 8:\n",
    "            grade = \"B\"\n",
    "        case 7:\n",
    "            grade = \"C\"\n",
    "        case 6:\n",
    "            grade = \"D\"\n",
    "        case 5:\n",
    "            grade = \"E\"    \n",
    "        case _:\n",
    "            grade = \"Fail\"\n",
    "    return grade\n",
    "\n",
    "avg = 1\n",
    "while (avg != 0):\n",
    "    avg = float(input(\"Enter score (enter 0 to exit):\"))\n",
    "    print(\"Your grade:\", grade(avg))\n",
    "    "
   ]
  },
  {
   "cell_type": "markdown",
   "metadata": {},
   "source": [
    "###  5.check if a triangle is equilateral, isosceles or scalene.\n",
    "\n",
    "Hint :\n",
    "1. An equilateral triangle is a triangle in which all three sides are equal.\n",
    "\n",
    "2. A scalene triangle is a triangle that has three unequal sides.\n",
    "\n",
    "3. An isosceles triangle is a triangle with (at least) two equal sides.\n",
    "\n",
    "Dimensions of triangle:\n",
    "\n",
    "side 1 = 6 \n",
    "\n",
    "side 2 = 8 \n",
    "\n",
    "side 3 = 12"
   ]
  },
  {
   "cell_type": "code",
   "execution_count": null,
   "metadata": {},
   "outputs": [],
   "source": []
  },
  {
   "cell_type": "markdown",
   "metadata": {},
   "source": [
    "### 6. Check if the word \"Data\" is present in the sentence \"I am a Data Scientist\". If found print \"It is present\" else print FALSE"
   ]
  },
  {
   "cell_type": "code",
   "execution_count": null,
   "metadata": {},
   "outputs": [],
   "source": []
  },
  {
   "cell_type": "markdown",
   "metadata": {},
   "source": [
    "### 7. Write python code to check if a number is positive or negative."
   ]
  },
  {
   "cell_type": "code",
   "execution_count": null,
   "metadata": {},
   "outputs": [],
   "source": []
  },
  {
   "cell_type": "markdown",
   "metadata": {},
   "source": [
    "### 8. x = 20 and y = 30. Write a python code to check if x is less than y."
   ]
  },
  {
   "cell_type": "code",
   "execution_count": null,
   "metadata": {},
   "outputs": [],
   "source": []
  },
  {
   "cell_type": "markdown",
   "metadata": {},
   "source": [
    "### 9. Based on the users age, divide them into three groups \n",
    "    Group 1 : Age <18 , Minors who are not eligible to work\n",
    "    Group 2 : 18 < Age < 60 , Eligible to work\n",
    "    Group 3 : Age > 60, Too old to work as per govt. regulations. \n",
    "\n",
    "### Write a python code for the same"
   ]
  },
  {
   "cell_type": "code",
   "execution_count": null,
   "metadata": {},
   "outputs": [],
   "source": []
  },
  {
   "cell_type": "markdown",
   "metadata": {},
   "source": [
    "### 10. From the age of 3 people determine the oldest person among them.\n",
    "Age of first person = 25\n",
    "\n",
    "Age of second person = 34\n",
    "\n",
    "Age of third person = 45"
   ]
  },
  {
   "cell_type": "code",
   "execution_count": null,
   "metadata": {},
   "outputs": [],
   "source": []
  }
 ],
 "metadata": {
  "kernelspec": {
   "display_name": "Python 3 (ipykernel)",
   "language": "python",
   "name": "python3"
  },
  "language_info": {
   "codemirror_mode": {
    "name": "ipython",
    "version": 3
   },
   "file_extension": ".py",
   "mimetype": "text/x-python",
   "name": "python",
   "nbconvert_exporter": "python",
   "pygments_lexer": "ipython3",
   "version": "3.11.0"
  }
 },
 "nbformat": 4,
 "nbformat_minor": 4
}
