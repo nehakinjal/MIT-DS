<!DOCTYPE html>
<html>
<head>
  <title>Olympus - Great Learning</title>




  <meta name="viewport" content="width=device-width, initial-scale=1">
  <link href="https://dq0un14k3iie7.cloudfront.net/assets/gl-favicon-v1-2-f955f24bac9c3d7d25b53000f0e13bee0568b3df01356310b62b6ac86fa1a926.svg" rel="shortcut icon" type="image/vnd.microsoft.icon" />
  <link data-turbolinks-track="true" href="https://dq0un14k3iie7.cloudfront.net/assets/application-1a2088abbb0f2b1a3aeddb15b70723b0ed0198373665d9618c78b2de19fb8e3d.css" media="all" rel="stylesheet" />
      <link data-turbolinks-track="true" href="https://dq0un14k3iie7.cloudfront.net/assets/payment_transactions-b9e125e61124f59c19d6e7216a9fe508be400eb8de2e979af9de5f35b226cb7c.css" media="all" rel="stylesheet" />


  <script data-turbolinks-track="true" src="https://dq0un14k3iie7.cloudfront.net/assets/application-379a116e2ff48682dee9bf40a3847bad05dcc024259ff28f2caf68bf101e822e.js"></script>

      <script data-turbolinks-track="true" src="https://dq0un14k3iie7.cloudfront.net/assets/payment_transactions-632579df6bf13fdc395f9f8dd0e72bc4650aad2b8c2e84de0ab4afd836dcab9b.js"></script>



  <meta content="authenticity_token" name="csrf-param" />
<meta content="UBM5dUJ1E8/YjmCY7sTH5BXzmBjqCnmFY65W5vzzPfw=" name="csrf-token" />
  
  
    <!-- start Rollbar -->
    <script>
        console.log('Rollbar!!!');

        var _rollbarConfig = {
            accessToken: "9f626ee0243e4a128e0ea52bedcffd57",
            captureUncaught: true,
            captureUnhandledRejections: true,
            payload: {
                environment: "production"
            }
        };
    // Rollbar Snippet
    !function(r){var e={};function o(n){if(e[n])return e[n].exports;var t=e[n]={i:n,l:!1,exports:{}};return r[n].call(t.exports,t,t.exports,o),t.l=!0,t.exports}o.m=r,o.c=e,o.d=function(r,e,n){o.o(r,e)||Object.defineProperty(r,e,{enumerable:!0,get:n})},o.r=function(r){"undefined"!=typeof Symbol&&Symbol.toStringTag&&Object.defineProperty(r,Symbol.toStringTag,{value:"Module"}),Object.defineProperty(r,"__esModule",{value:!0})},o.t=function(r,e){if(1&e&&(r=o(r)),8&e)return r;if(4&e&&"object"==typeof r&&r&&r.__esModule)return r;var n=Object.create(null);if(o.r(n),Object.defineProperty(n,"default",{enumerable:!0,value:r}),2&e&&"string"!=typeof r)for(var t in r)o.d(n,t,function(e){return r[e]}.bind(null,t));return n},o.n=function(r){var e=r&&r.__esModule?function(){return r.default}:function(){return r};return o.d(e,"a",e),e},o.o=function(r,e){return Object.prototype.hasOwnProperty.call(r,e)},o.p="",o(o.s=0)}([function(r,e,o){"use strict";var n=o(1),t=o(5);_rollbarConfig=_rollbarConfig||{},_rollbarConfig.rollbarJsUrl=_rollbarConfig.rollbarJsUrl||"https://cdn.rollbar.com/rollbarjs/refs/tags/v2.23.0/rollbar.min.js",_rollbarConfig.async=void 0===_rollbarConfig.async||_rollbarConfig.async;var a=n.setupShim(window,_rollbarConfig),l=t(_rollbarConfig);window.rollbar=n.Rollbar,a.loadFull(window,document,!_rollbarConfig.async,_rollbarConfig,l)},function(r,e,o){"use strict";var n=o(2),t=o(3);function a(r){return function(){try{return r.apply(this,arguments)}catch(r){try{console.error("[Rollbar]: Internal error",r)}catch(r){}}}}var l=0;function i(r,e){this.options=r,this._rollbarOldOnError=null;var o=l++;this.shimId=function(){return o},"undefined"!=typeof window&&window._rollbarShims&&(window._rollbarShims[o]={handler:e,messages:[]})}var s=o(4),d=function(r,e){return new i(r,e)},c=function(r){return new s(d,r)};function u(r){return a((function(){var e=this,o=Array.prototype.slice.call(arguments,0),n={shim:e,method:r,args:o,ts:new Date};window._rollbarShims[this.shimId()].messages.push(n)}))}i.prototype.loadFull=function(r,e,o,n,t){var l=!1,i=e.createElement("script"),s=e.getElementsByTagName("script")[0],d=s.parentNode;i.crossOrigin="",i.src=n.rollbarJsUrl,o||(i.async=!0),i.onload=i.onreadystatechange=a((function(){if(!(l||this.readyState&&"loaded"!==this.readyState&&"complete"!==this.readyState)){i.onload=i.onreadystatechange=null;try{d.removeChild(i)}catch(r){}l=!0,function(){var e;if(void 0===r._rollbarDidLoad){e=new Error("rollbar.js did not load");for(var o,n,a,l,i=0;o=r._rollbarShims[i++];)for(o=o.messages||[];n=o.shift();)for(a=n.args||[],i=0;i<a.length;++i)if("function"==typeof(l=a[i])){l(e);break}}"function"==typeof t&&t(e)}()}})),d.insertBefore(i,s)},i.prototype.wrap=function(r,e,o){try{var n;if(n="function"==typeof e?e:function(){return e||{}},"function"!=typeof r)return r;if(r._isWrap)return r;if(!r._rollbar_wrapped&&(r._rollbar_wrapped=function(){o&&"function"==typeof o&&o.apply(this,arguments);try{return r.apply(this,arguments)}catch(o){var e=o;throw e&&("string"==typeof e&&(e=new String(e)),e._rollbarContext=n()||{},e._rollbarContext._wrappedSource=r.toString(),window._rollbarWrappedError=e),e}},r._rollbar_wrapped._isWrap=!0,r.hasOwnProperty))for(var t in r)r.hasOwnProperty(t)&&(r._rollbar_wrapped[t]=r[t]);return r._rollbar_wrapped}catch(e){return r}};for(var p="log,debug,info,warn,warning,error,critical,global,configure,handleUncaughtException,handleAnonymousErrors,handleUnhandledRejection,captureEvent,captureDomContentLoaded,captureLoad".split(","),f=0;f<p.length;++f)i.prototype[p[f]]=u(p[f]);r.exports={setupShim:function(r,e){if(r){var o=e.globalAlias||"Rollbar";if("object"==typeof r[o])return r[o];r._rollbarShims={},r._rollbarWrappedError=null;var l=new c(e);return a((function(){e.captureUncaught&&(l._rollbarOldOnError=r.onerror,n.captureUncaughtExceptions(r,l,!0),e.wrapGlobalEventHandlers&&t(r,l,!0)),e.captureUnhandledRejections&&n.captureUnhandledRejections(r,l,!0);var a=e.autoInstrument;return!1!==e.enabled&&(void 0===a||!0===a||"object"==typeof a&&a.network)&&r.addEventListener&&(r.addEventListener("load",l.captureLoad.bind(l)),r.addEventListener("DOMContentLoaded",l.captureDomContentLoaded.bind(l))),r[o]=l,l}))()}},Rollbar:c}},function(r,e,o){"use strict";function n(r,e,o,n){r._rollbarWrappedError&&(n[4]||(n[4]=r._rollbarWrappedError),n[5]||(n[5]=r._rollbarWrappedError._rollbarContext),r._rollbarWrappedError=null);var t=e.handleUncaughtException.apply(e,n);o&&o.apply(r,n),"anonymous"===t&&(e.anonymousErrorsPending+=1)}r.exports={captureUncaughtExceptions:function(r,e,o){if(r){var t;if("function"==typeof e._rollbarOldOnError)t=e._rollbarOldOnError;else if(r.onerror){for(t=r.onerror;t._rollbarOldOnError;)t=t._rollbarOldOnError;e._rollbarOldOnError=t}e.handleAnonymousErrors();var a=function(){var o=Array.prototype.slice.call(arguments,0);n(r,e,t,o)};o&&(a._rollbarOldOnError=t),r.onerror=a}},captureUnhandledRejections:function(r,e,o){if(r){"function"==typeof r._rollbarURH&&r._rollbarURH.belongsToShim&&r.removeEventListener("unhandledrejection",r._rollbarURH);var n=function(r){var o,n,t;try{o=r.reason}catch(r){o=void 0}try{n=r.promise}catch(r){n="[unhandledrejection] error getting `promise` from event"}try{t=r.detail,!o&&t&&(o=t.reason,n=t.promise)}catch(r){}o||(o="[unhandledrejection] error getting `reason` from event"),e&&e.handleUnhandledRejection&&e.handleUnhandledRejection(o,n)};n.belongsToShim=o,r._rollbarURH=n,r.addEventListener("unhandledrejection",n)}}}},function(r,e,o){"use strict";function n(r,e,o){if(e.hasOwnProperty&&e.hasOwnProperty("addEventListener")){for(var n=e.addEventListener;n._rollbarOldAdd&&n.belongsToShim;)n=n._rollbarOldAdd;var t=function(e,o,t){n.call(this,e,r.wrap(o),t)};t._rollbarOldAdd=n,t.belongsToShim=o,e.addEventListener=t;for(var a=e.removeEventListener;a._rollbarOldRemove&&a.belongsToShim;)a=a._rollbarOldRemove;var l=function(r,e,o){a.call(this,r,e&&e._rollbar_wrapped||e,o)};l._rollbarOldRemove=a,l.belongsToShim=o,e.removeEventListener=l}}r.exports=function(r,e,o){if(r){var t,a,l="EventTarget,Window,Node,ApplicationCache,AudioTrackList,ChannelMergerNode,CryptoOperation,EventSource,FileReader,HTMLUnknownElement,IDBDatabase,IDBRequest,IDBTransaction,KeyOperation,MediaController,MessagePort,ModalWindow,Notification,SVGElementInstance,Screen,TextTrack,TextTrackCue,TextTrackList,WebSocket,WebSocketWorker,Worker,XMLHttpRequest,XMLHttpRequestEventTarget,XMLHttpRequestUpload".split(",");for(t=0;t<l.length;++t)r[a=l[t]]&&r[a].prototype&&n(e,r[a].prototype,o)}}},function(r,e,o){"use strict";function n(r,e){this.impl=r(e,this),this.options=e,function(r){for(var e=function(r){return function(){var e=Array.prototype.slice.call(arguments,0);if(this.impl[r])return this.impl[r].apply(this.impl,e)}},o="log,debug,info,warn,warning,error,critical,global,configure,handleUncaughtException,handleAnonymousErrors,handleUnhandledRejection,_createItem,wrap,loadFull,shimId,captureEvent,captureDomContentLoaded,captureLoad".split(","),n=0;n<o.length;n++)r[o[n]]=e(o[n])}(n.prototype)}n.prototype._swapAndProcessMessages=function(r,e){var o,n,t;for(this.impl=r(this.options);o=e.shift();)n=o.method,t=o.args,this[n]&&"function"==typeof this[n]&&("captureDomContentLoaded"===n||"captureLoad"===n?this[n].apply(this,[t[0],o.ts]):this[n].apply(this,t));return this},r.exports=n},function(r,e,o){"use strict";r.exports=function(r){return function(e){if(!e&&!window._rollbarInitialized){for(var o,n,t=(r=r||{}).globalAlias||"Rollbar",a=window.rollbar,l=function(r){return new a(r)},i=0;o=window._rollbarShims[i++];)n||(n=o.handler),o.handler._swapAndProcessMessages(l,o.messages);window[t]=n,window._rollbarInitialized=!0}}}}]);
    // End Rollbar Snippet

    // window.onerror("TestError: Hello Ninja Dashboard", window.location.href);

    </script>
    <!-- end Rollbar -->

  <!-- start Mixpanel -->
<script type="text/javascript">(function(e,a){if(!a.__SV){var b=window;try{var c,l,i,j=b.location,g=j.hash;c=function(a,b){return(l=a.match(RegExp(b+"=([^&]*)")))?l[1]:null};g&&c(g,"state")&&(i=JSON.parse(decodeURIComponent(c(g,"state"))),"mpeditor"===i.action&&(b.sessionStorage.setItem("_mpcehash",g),history.replaceState(i.desiredHash||"",e.title,j.pathname+j.search)))}catch(m){}var k,h;window.mixpanel=a;a._i=[];a.init=function(b,c,f){function e(b,a){var c=a.split(".");2==c.length&&(b=b[c[0]],a=c[1]);b[a]=function(){b.push([a].concat(Array.prototype.slice.call(arguments,
  0)))}}var d=a;"undefined"!==typeof f?d=a[f]=[]:f="mixpanel";d.people=d.people||[];d.toString=function(b){var a="mixpanel";"mixpanel"!==f&&(a+="."+f);b||(a+=" (stub)");return a};d.people.toString=function(){return d.toString(1)+".people (stub)"};k="disable time_event track track_pageview track_links track_forms register register_once alias unregister identify name_tag set_config reset people.set people.set_once people.increment people.append people.union people.track_charge people.clear_charges people.delete_user".split(" ");
  for(h=0;h<k.length;h++)e(d,k[h]);a._i.push([b,c,f])};a.__SV=1.2;b=e.createElement("script");b.type="text/javascript";b.async=!0;b.src="undefined"!==typeof MIXPANEL_CUSTOM_LIB_URL?MIXPANEL_CUSTOM_LIB_URL:"file:"===e.location.protocol&&"//cdn.mxpnl.com/libs/mixpanel-2-latest.min.js".match(/^\/\//)?"https://cdn.mxpnl.com/libs/mixpanel-2-latest.min.js":"//cdn.mxpnl.com/libs/mixpanel-2-latest.min.js";c=e.getElementsByTagName("script")[0];c.parentNode.insertBefore(b,c)}})(document,window.mixpanel||[]);

mixpanel.init('be636828dad51bd56fbfb1e20bbddc37');</script>
<!-- end Mixpanel -->


</head>
<body>


<div class="container-fluid">

  <input type='hidden' id='_lms_analytics_title' value='PaymentTransactions/new'>
  <input type='hidden' id='_lms_analytics_params_json' value='{&quot;program_group_id&quot;:&quot;15160&quot;,&quot;user_id&quot;:&quot;7775914&quot;,&quot;action&quot;:&quot;new&quot;,&quot;controller&quot;:&quot;payment_transactions&quot;}'>
  <input type='hidden' id='_lms_user_id' value=''>
  <input type='hidden' id='_lms_user_email' value=''>
  <input type='hidden' id='_lms_user_name' value=''>
  <input type='hidden' id='prod_asset_cloudfront_url' value='https://d9jmtjs5r4cgq.cloudfront.net'>
  <input type="hidden" id="current_env" value="production">


    
  <input type="hidden" id="collecting_payment" value="true">

      <nav class="navbar navbar-default navbar-fixed-top hide-nav-mobile">
      <div class="container-fluid">
        <!-- Brand and toggle get grouped for better mobile display -->
        <div class="navbar-header">
          <a class="navbar-brand" href="#">
            <img src="https://dtmvamahs40ux.cloudfront.net/partner_organisation/13/olympus_logo/MIT_PE_logo.png?1670494115" alt='Olympus'>
          </a>
        </div>

          <div class="page-title hidden-xs">
            <h4 class="m-0 p-0">Payments</h4>
          </div>

        <div class="collapse navbar-collapse" id="career-support-navbar-collapse">
          <ul class="nav navbar-nav navbar-right">
            <li id="jobs_tab" class="active"></li>
          </ul>
        </div>
      </div>
    </nav>




  <div id="post-due-date-msg" class="hidden nav-space jumbotron payment-msg-container">
  </div>

  <div id="till-due-date-msg" class="hidden nav-space jumbotron payment-msg-container">
      <h3 class="payment-msg-header">Upcoming fees to pay</h3>
      <p class="font-size-18px">Hey Neha Dalal, we notice that you have a Payment of
        <span class="payment-due-amount">USD 1000.0
        </span> for 1st Installment is due on
        <span class="payment-due-date">3 March 2023</span>.
      </p>
      <p class="font-size-18px">You can click on the button below to pay the same and get uninterrupted access to the Olympus.</p>
      <p class="text-center margin-top-30px">
        <a href="#" class="btn btn-primary btn-lg" onclick="ltiApp.payNow(false);">Pay Now</a>
        <a href="https://olympus.mygreatlearning.com/learner_dashboard" class="pay-later-link">Later</a>
      </p>
  </div>


  <section class="page-container nav-space fee-margin-bottom">
    <div class="container">
      <div id="internal-error-msg" class="hidden">
        <p>Seems like the link is not valid or there is some internal issue.</p>
        <p>
          Kindly contact us at
          <span class="gl-phone">
            +1 617 468 7899
        </span>
          or
          <span class="gl-email">
            adsp.mit@mygreatlearning.com
        </span>
          to resolve this.
        </p>
      </div>

      <div id="email-verification-msg" class="hidden">
        <h3>Confirm Email Id</h3>
        <p>To continue to payment, please confirm if your email id is <span class="user-email">nehakinjal@gmail.com</span></p>
        <p class="text-right mt-20">
          <a href="#" class="btn btn-primary " onclick="ltiApp.emailConfirmed();">Yes, this is me</a>
          <a href="#" class="incorrect-email-link btn btn-link" onclick="ltiApp.emailIncorrect();" >Not me!</a>
        </p>
      </div>

      <div id="incorrect-email-msg" class="hidden payment-msg-container">
        <h3>Wrong payment link</h3>
        <p>Seems like you have got a wrong link to payment.</p>
        <p>
          Kindly contact us at
          <span class="gl-phone">
            +1 617 468 7899
        </span>
          or
          <span class="gl-email">
            adsp.mit@mygreatlearning.com
        </span>
          to get the right link.
        </p>
      </div>

      <div id="till-due-date-msg" class="hidden payment-msg-container">
        <h3>Upcoming fee payment</h3>
        <p>
          Payment of
          <span class="payment-due-amount">USD
            1000.0
          </span>
          for 1st Installment
          is due on <span class="payment-due-date">3 March 2023</span>.
          Please make the payment for uninterrupted learning experience.
        </p>
        <p>In case of any queries, kindly reach out to us at
  <span class="gl-phone-color">
    +1 617 468 7899
  </span> or
  <a href="mailto:admissions_support@greatlearning.in" target="_blank">
    adsp.mit@mygreatlearning.com
  </a>
</p>
        <p class="text-center margin-top-30px">
          <a href="#" class="btn btn-primary btn-lg" onclick="ltiApp.payNow(false);">Pay Now</a>
          <a href="https://olympus.mygreatlearning.com/learner_dashboard" class="btn btn-link">Later</a>
        </p>
      </div>

      <div id="post-due-date-msg" class="hidden payment-msg-container">
        <h3>Access blocked</h3>
        <p>
          Payment of <span class="payment-due-amount">USD 1000.0</span>
          for 1st Installment was due on <span class="payment-due-date">3 March 2023</span>.
          Please make the payment to resume learning.
        </p>
        <p>In case of any queries, kindly reach out to us at
  <span class="gl-phone-color">
    +1 617 468 7899
  </span> or
  <a href="mailto:admissions_support@greatlearning.in" target="_blank">
    adsp.mit@mygreatlearning.com
  </a>
</p>
        <p class="text-center margin-top-30px">
          <a href="#" class="btn btn-primary" onclick="ltiApp.payNow(true);">Pay Now</a>
        </p>
      </div>

      <div id="payment-validation-errors" class="validation-errors hidden"></div>

      <div id="fee-payment-form" class="payment-form-container hidden">
        <div class="row">
          <h4 class="text-center">
            MIT-ADSP Fees Payment
          </h4>
        </div>

        <form accept-charset="UTF-8" action="/payment_transactions" class="form-horizontal" id="new_payment_transaction" method="post"><div style="display:none"><input name="utf8" type="hidden" value="&#x2713;" /><input name="authenticity_token" type="hidden" value="UBM5dUJ1E8/YjmCY7sTH5BXzmBjqCnmFY65W5vzzPfw=" /></div>
          <div class="form-group row">
            <div class="col-md-12">
              <h5 class="section-header">Enter Personal Details</h5>
            </div>
          </div>

          <div class="form-group row">
            <div class="col-md-5 col-md-push-6 mt-sm-0">
              <input class="form-control" id="payment_transaction_email" name="payment_transaction[email]" placeholder="Enter a valid email address" type="text" value="nehakinjal@gmail.com" />
              <div id="email-msg-id" class="email-msg hidden">
                <span>Payment receipt will be sent to the email id provided</span>
              </div>
            </div>
            <div class="col-md-1"></div>
            <div class="col-md-5 col-md-pull-6 mt-sm-0">
              <input class="form-control" id="payment_transaction_name" name="payment_transaction[name]" placeholder="Enter your full name" type="text" value="Neha Dalal" />
            </div>
          </div>

          <!-- Discount code section starts -->
         
          <!-- Discount code section ends -->
          <div class="form-group row">
            <div class="col-md-12">
              <h5 class="section-header">
                  FEE DETAILS &nbsp;&nbsp;
                  <span class="section-header-due-amount"> Amount Due: USD 1000.0</span>
              </h5>
            </div>
          </div>
          <div class="row">
              <div class="col-md-11 one-col-fee">
                <div class="fee-section">
                  <div class="most-popular-top-box">
                    <div class="row">
                      <div class="col-xs-12"> <h3 class="payment-option-text payment-options-header">Pay in Installments</h3></div>
                    </div>
                  </div>
                  <div class="p-20">
                    <div id="fees-div" class="installment-div">
                      <div>Select Installments</div>

                          <div class="row checkbox form-control-static ">
                            <label class="col-xs-8 installment-items" style="padding-left: 35px;">
                              <input type="checkbox" id="installment-checkbox-28237" class="installment-checkbox"
                                    data-has-predefined-amount="true"
                                    onclick="ltiApp.updateAmount('installment-checkbox-28237');"
                                     
                                      >

                              <div class="installment-name">Registration Fee</div>

                                <span class="installment-due-date">Due 10 Feb&#39;23</span>
                            </label>
                            <div class="col-xs-4 installment-amount-row ">
                                <span class="installment-currency">USD</span>
                                <span class="installment-amount" data-amount="1000.0">1000</span><span class="updated-amount"></span>
                            </div>
                          </div>
                          <div class="row checkbox form-control-static ">
                            <label class="col-xs-8 installment-items" style="padding-left: 35px;">
                              <input type="checkbox" id="installment-checkbox-28238" class="installment-checkbox"
                                    data-has-predefined-amount="true"
                                    onclick="ltiApp.updateAmount('installment-checkbox-28238');"
                                     
                                      >

                              <div class="installment-name">1st Installment</div>

                                <span class="installment-due-date">Due 03 Mar&#39;23</span>
                            </label>
                            <div class="col-xs-4 installment-amount-row ">
                                <span class="installment-currency">USD</span>
                                <span class="installment-amount" data-amount="1000.0">1000</span><span class="updated-amount"></span>
                            </div>
                          </div>
                          <div class="row checkbox form-control-static ">
                            <label class="col-xs-8 installment-items" style="padding-left: 35px;">
                              <input type="checkbox" id="installment-checkbox-28239" class="installment-checkbox"
                                    data-has-predefined-amount="true"
                                    onclick="ltiApp.updateAmount('installment-checkbox-28239');"
                                     
                                      >

                              <div class="installment-name">2nd Installment</div>

                                <span class="installment-due-date">Due 17 Mar&#39;23</span>
                            </label>
                            <div class="col-xs-4 installment-amount-row last_installment">
                                <span class="installment-currency">USD</span>
                                <span class="installment-amount" data-amount="1700.0">1700</span><span class="updated-amount"></span>
                                  <div class="installments-promo-apply-message d-none">
                                    <img src="https://dq0un14k3iie7.cloudfront.net/assets/local_offer-e54a38207a7c2b5581577b42a52a7988e3cd1412544846d52e6e509da80520f0.png" alt=""/>
                                    <span id="promo-success-installment-message" class="promo-success-message"></span>
                                  </div>
                            </div>
                          </div>
                          <div class="row checkbox form-control-static min-height-50px">
                            <label class="col-xs-8 installment-items" style="padding-left: 35px;">
                              <input type="checkbox" id="installment-checkbox-28240" class="installment-checkbox"
                                    data-has-predefined-amount="false"
                                    onclick="ltiApp.updateAmount('installment-checkbox-28240');"
                                     
                                      >

                              <div class="installment-name">Others</div>

                            </label>
                            <div class="col-xs-4 installment-amount-row ">
                                <input id="installment-input-28240" class="installment-amount form-control"
                                      type="text" onkeyup="ltiApp.updateAmount();"
                                      onkeypress="return (event.charCode >= 48 && event.charCode <= 57) || event.charCode == 46">
                            </div>
                          </div>
                    </div>

                    <hr class="installment-separator row">

                    <div class="row d-none" id="discount-substract-div">
                      <label class="col-xs-8 total-tax-label">
                        Promo Fee waiver
                      </label>
                      <div class="col-xs-4">
                        <span>Rs.</span>
                        <span class="form-control-static discount-substract" id="discount-substract"></span>
                      </div>
                    </div>
                      <div class="row">
                        <label class="col-xs-8 total-amount-label ">
                          Total <span class="amount-in-total"> Amount
                        </label>
                        <div class="col-xs-4 text-right">
                          <span class="installment-currency">USD</span>
                            <p id="total-amount" class="form-control-static total-amount">0</p>
                        </div>
                      </div>
                    </div>
                  </div>
                </div>
              </div>

                <div class="form-group" style="margin-top: 25px;text-align: center">
                  <div class="col-xs-12">
                    <div id="checkout-errors-3" role="alert"></div>
                    <button id="checkout-button-3" class="btn btn-primary">Pay Now</button>
                    <a id="pay-later-link" href="https://olympus.mygreatlearning.com/learner_dashboard" class="pay-later-link hidden">Later</a>
                  </div>
                </div>
          </div>


          <input id="payment_transaction_program_fee_code" name="payment_transaction[program_fee_code]" type="hidden" value="mit-adsp-100-online" />
          <input id="payment_transaction_batch_code" name="payment_transaction[batch_code]" type="hidden" />
          <input id="payment_transaction_program_id" name="payment_transaction[program_id]" type="hidden" value="3545" />
          <input id="payment_transaction_learning_center_id" name="payment_transaction[learning_center_id]" type="hidden" value="5" />
          <input id="payment_transaction_product_info" name="payment_transaction[product_info]" type="hidden" value="MIT-ADSP@online" />
          <input id="payment_transaction_amount" name="payment_transaction[amount]" type="hidden" />
          <input id="payment_transaction_installment_options" name="payment_transaction[installment_options]" type="hidden" />
          <input id="payment_transaction_program_group_id" name="payment_transaction[program_group_id]" type="hidden" value="15160" />
          <input id="payment_transaction_lms_user_id" name="payment_transaction[lms_user_id]" type="hidden" value="7775914" />
          <input id="payment_transaction_full_payment_discount_eligible" name="payment_transaction[full_payment_discount_eligible]" type="hidden" />

          <input type="hidden" id="pg_name" value="paypal">
          <input type="hidden" id="currency" value="USD">
          <input type="hidden" id="is-international" value="true">

          <input type="hidden" id="is_gst_live" value="false">
          <input type="hidden" id="collect_integrated_tax" value="false">
          <input type="hidden" id="internal-error" value="">
          <input type="hidden" id="verify-email" value="">
          <input type="hidden" id="from-lms" value="true">
          <input type="hidden" id="payment_due_or_pending" value="true">
          <input type="hidden" id="payment_due_date_crossed" value="false">
          <input type="hidden" id="payment_amount_due" value="1000.0">
          <input type="hidden" id="payment_due_date" value="2023-03-03">
          <input type="hidden" id="pending_installment_names" value="1st Installment">
          <input type="hidden" id="one_time_fee_amount" value="3700.0"> 
          <input type="hidden" id="disable_selection" value="false">
          <input type="hidden" id="is_intl_gst_enabled" value="">
          <input type="hidden" id="gst_percent_value" value="">     
          <input type="hidden" id="failure_link_source" value="">   
</form>      </div>
    </div>

    <script type="text/javascript" src="https://js.stripe.com/v3/"></script>
    <script>var stripe = Stripe("pk_live_Io3fxMK5YnEl6R1QmQAXS6BZ");</script>
  </section>
  <script src="https://www.paypal.com/sdk/js?components=messages&client-id=Add1nhIh-HNG3fB0E4wQ3r3xN3hXJ2AKX9vFAIWFGfaritcTDcUmKHnvr-4PtUpetG49y8IV2ic4m6nE"></script>
  <span class="js-info" style="display:none" data-source="unspecified" data-location="international"></span>

    <footer class="footer flex align-items-center">
    <div class="container">
      <div class="row">
        <div class="col-sm-12">
          <p class="text-center m-0">
            <small>&copy; 2023 All rights reserved.</small>
          </p>
        </div>
      </div>
    </div>
  </footer>


</div>



</body>
</html>
