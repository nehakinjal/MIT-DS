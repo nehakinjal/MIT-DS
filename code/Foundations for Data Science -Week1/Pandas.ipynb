{
 "cells": [
  {
   "cell_type": "markdown",
   "id": "db0058b6",
   "metadata": {},
   "source": [
    "* Series \n",
    "    - labelled 1 dimensional array\n",
    "    - can have any type of index, but the dtype of the data is same\n",
    "    - if data type mixed stores as object\n",
    "    1.    Series is a 1-dimensional data structure supported by Pandas\n",
    "    2.    Series objects have only one set of labels\n",
    "    3.    We can create Series from 1-d arrays, dictionaries, lists, etc.\n",
    "    4.    Series labels can be integers as well as strings"
   ]
  },
  {
   "cell_type": "code",
   "execution_count": 7,
   "id": "179924d6",
   "metadata": {},
   "outputs": [
    {
     "name": "stdout",
     "output_type": "stream",
     "text": [
      "float64\n",
      "4.7\n"
     ]
    }
   ],
   "source": [
    "import pandas as pd\n",
    "\n",
    "l = pd.Series([1, 4.7, 8])\n",
    "print(l.dtype)\n",
    "print(l[1])\n",
    "\n",
    "index = ['Apple', 'Banana', 'Orange', 'grape']\n",
    "quantity = [34, 20, 30, 40]\n",
    "fruits = pd.Series(data=quantity, index=index)"
   ]
  },
  {
   "cell_type": "code",
   "execution_count": 6,
   "id": "7be7080e",
   "metadata": {},
   "outputs": [
    {
     "data": {
      "text/plain": [
       "5.5    10.0\n",
       "4.5     NaN\n",
       "6.5    30.0\n",
       "dtype: float64"
      ]
     },
     "execution_count": 6,
     "metadata": {},
     "output_type": "execute_result"
    }
   ],
   "source": [
    "# when new index assigned old index with its data value is deleted creating a NaN or null value\n",
    "d = {5.5:10, 6.5:30, 7.5:80}\n",
    "index = [5.5, 4.5, 6.5]\n",
    "pd.Series(data=d, index=index)\n",
    "# please note missing integer value makes dtype of series float"
   ]
  },
  {
   "cell_type": "code",
   "execution_count": 11,
   "id": "9fb2a59f",
   "metadata": {},
   "outputs": [
    {
     "data": {
      "text/plain": [
       "Apple     34\n",
       "Orange    30\n",
       "grape     40\n",
       "dtype: int64"
      ]
     },
     "execution_count": 11,
     "metadata": {},
     "output_type": "execute_result"
    }
   ],
   "source": [
    "# search for values in data\n",
    "fruits[fruits > 22]"
   ]
  },
  {
   "cell_type": "code",
   "execution_count": 17,
   "id": "18d450e7",
   "metadata": {},
   "outputs": [
    {
     "data": {
      "text/plain": [
       "True"
      ]
     },
     "execution_count": 17,
     "metadata": {},
     "output_type": "execute_result"
    }
   ],
   "source": [
    "fruits.Banana < 90"
   ]
  },
  {
   "cell_type": "code",
   "execution_count": 16,
   "id": "d05ac5b9",
   "metadata": {},
   "outputs": [
    {
     "data": {
      "text/plain": [
       "False"
      ]
     },
     "execution_count": 16,
     "metadata": {},
     "output_type": "execute_result"
    }
   ],
   "source": [
    "fruits[\"Banana\"] == 90"
   ]
  },
  {
   "cell_type": "code",
   "execution_count": 21,
   "id": "e095f871",
   "metadata": {},
   "outputs": [
    {
     "data": {
      "text/plain": [
       "Apple     34\n",
       "Banana    20\n",
       "Orange    30\n",
       "grape     40\n",
       "dtype: int64"
      ]
     },
     "execution_count": 21,
     "metadata": {},
     "output_type": "execute_result"
    }
   ],
   "source": [
    "fruits.sort_values()\n",
    "fruits.sort_values(ascending = False)\n",
    "fruits"
   ]
  },
  {
   "cell_type": "code",
   "execution_count": 23,
   "id": "682856e2",
   "metadata": {},
   "outputs": [
    {
     "data": {
      "text/plain": [
       "0    0\n",
       "1    1\n",
       "2    2\n",
       "3    3\n",
       "4    4\n",
       "5    5\n",
       "6    6\n",
       "7    7\n",
       "8    8\n",
       "9    9\n",
       "dtype: int64"
      ]
     },
     "execution_count": 23,
     "metadata": {},
     "output_type": "execute_result"
    }
   ],
   "source": [
    "data = pd.Series(range(10))\n",
    "data"
   ]
  },
  {
   "cell_type": "markdown",
   "id": "809a7db5",
   "metadata": {},
   "source": [
    "* DataFrame - 2-dimensional labelled data structure\n",
    "    - stacked Series\n",
    "    - can be used for multidimension\n",
    "    - row, column concept\n",
    "    - transpose function(.T) converts rows to columns &vice versa"
   ]
  },
  {
   "cell_type": "code",
   "execution_count": 24,
   "id": "24926476",
   "metadata": {},
   "outputs": [
    {
     "data": {
      "text/plain": [
       "22.70512353524707"
      ]
     },
     "execution_count": 24,
     "metadata": {},
     "output_type": "execute_result"
    }
   ],
   "source": [
    "w=132\n",
    "h=64\n",
    "bmi = (w/2.2)/(h*0.0254)**2\n",
    "bmi"
   ]
  },
  {
   "cell_type": "code",
   "execution_count": null,
   "id": "743cf3ca",
   "metadata": {},
   "outputs": [],
   "source": []
  }
 ],
 "metadata": {
  "kernelspec": {
   "display_name": "Python 3 (ipykernel)",
   "language": "python",
   "name": "python3"
  },
  "language_info": {
   "codemirror_mode": {
    "name": "ipython",
    "version": 3
   },
   "file_extension": ".py",
   "mimetype": "text/x-python",
   "name": "python",
   "nbconvert_exporter": "python",
   "pygments_lexer": "ipython3",
   "version": "3.11.0"
  }
 },
 "nbformat": 4,
 "nbformat_minor": 5
}
