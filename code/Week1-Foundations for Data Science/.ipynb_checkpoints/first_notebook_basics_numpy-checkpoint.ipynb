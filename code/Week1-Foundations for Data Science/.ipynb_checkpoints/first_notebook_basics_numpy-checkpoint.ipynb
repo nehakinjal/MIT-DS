{
 "cells": [
  {
   "cell_type": "code",
   "execution_count": 10,
   "id": "7c454f5c",
   "metadata": {},
   "outputs": [
    {
     "name": "stdout",
     "output_type": "stream",
     "text": [
      "hello jupyter\n"
     ]
    }
   ],
   "source": [
    "print(\"hello jupyter\")"
   ]
  },
  {
   "cell_type": "code",
   "execution_count": 11,
   "id": "26a96bd9",
   "metadata": {},
   "outputs": [
    {
     "name": "stdout",
     "output_type": "stream",
     "text": [
      "1 2 three\n"
     ]
    }
   ],
   "source": [
    "# Creating and initializing multiple variables \n",
    "x, y, z = 1, 2, \"three\"\n",
    "print(x, y, z)\n",
    "\n",
    "# Is same as \n",
    "# x=1, y= 2, z = ‘three’"
   ]
  },
  {
   "cell_type": "markdown",
   "id": "0d0553fa",
   "metadata": {},
   "source": [
    "Variable data type is determined by the value assigned to it\n",
    "This data type can be changed after creation "
   ]
  },
  {
   "cell_type": "code",
   "execution_count": 12,
   "id": "2ab625bf",
   "metadata": {},
   "outputs": [
    {
     "name": "stdout",
     "output_type": "stream",
     "text": [
      "<class 'int'>\n"
     ]
    },
    {
     "data": {
      "text/plain": [
       "str"
      ]
     },
     "execution_count": 12,
     "metadata": {},
     "output_type": "execute_result"
    }
   ],
   "source": [
    "x=1\n",
    "print(type(x))\n",
    "y = \"one\"\n",
    "x=y\n",
    "type(x)"
   ]
  },
  {
   "cell_type": "code",
   "execution_count": 14,
   "id": "5a752429",
   "metadata": {},
   "outputs": [
    {
     "data": {
      "text/plain": [
       "16000.0"
      ]
     },
     "execution_count": 14,
     "metadata": {},
     "output_type": "execute_result"
    }
   ],
   "source": [
    "x=1.6e4\n",
    "x"
   ]
  },
  {
   "cell_type": "code",
   "execution_count": 15,
   "id": "2c878728",
   "metadata": {},
   "outputs": [
    {
     "data": {
      "text/plain": [
       "(2+3j)"
      ]
     },
     "execution_count": 15,
     "metadata": {},
     "output_type": "execute_result"
    }
   ],
   "source": [
    "complex_var = 2+3j\n",
    "complex_var"
   ]
  },
  {
   "cell_type": "code",
   "execution_count": 16,
   "id": "d650264c",
   "metadata": {},
   "outputs": [
    {
     "data": {
      "text/plain": [
       "'abcd'"
      ]
     },
     "execution_count": 16,
     "metadata": {},
     "output_type": "execute_result"
    }
   ],
   "source": [
    "s=\"abcd\"\n",
    "s"
   ]
  },
  {
   "cell_type": "code",
   "execution_count": 17,
   "id": "78f6383f",
   "metadata": {},
   "outputs": [
    {
     "data": {
      "text/plain": [
       "'abc'"
      ]
     },
     "execution_count": 17,
     "metadata": {},
     "output_type": "execute_result"
    }
   ],
   "source": [
    "# including index:excluding index\n",
    "s[0:3]"
   ]
  },
  {
   "cell_type": "code",
   "execution_count": 18,
   "id": "03195ee9",
   "metadata": {},
   "outputs": [
    {
     "data": {
      "text/plain": [
       "'d'"
      ]
     },
     "execution_count": 18,
     "metadata": {},
     "output_type": "execute_result"
    }
   ],
   "source": [
    "# negative index to start from the end, starting with -1 for last char\n",
    "s[-1]"
   ]
  },
  {
   "cell_type": "code",
   "execution_count": 19,
   "id": "47c11216",
   "metadata": {},
   "outputs": [
    {
     "data": {
      "text/plain": [
       "'c'"
      ]
     },
     "execution_count": 19,
     "metadata": {},
     "output_type": "execute_result"
    }
   ],
   "source": [
    "s[-2]"
   ]
  },
  {
   "cell_type": "code",
   "execution_count": 21,
   "id": "e57c3434",
   "metadata": {},
   "outputs": [
    {
     "data": {
      "text/plain": [
       "'abcdabcdabcdabcdabcdabcdabcdabcdabcdabcd'"
      ]
     },
     "execution_count": 21,
     "metadata": {},
     "output_type": "execute_result"
    }
   ],
   "source": [
    "# you can concatenate multiple times using * operator\n",
    "long_s = s*10\n",
    "long_s"
   ]
  },
  {
   "cell_type": "code",
   "execution_count": 24,
   "id": "482c0967",
   "metadata": {},
   "outputs": [
    {
     "data": {
      "text/plain": [
       "1"
      ]
     },
     "execution_count": 24,
     "metadata": {},
     "output_type": "execute_result"
    }
   ],
   "source": [
    "b = True + False\n",
    "b"
   ]
  },
  {
   "cell_type": "code",
   "execution_count": 25,
   "id": "c0b57fe0",
   "metadata": {},
   "outputs": [
    {
     "data": {
      "text/plain": [
       "int"
      ]
     },
     "execution_count": 25,
     "metadata": {},
     "output_type": "execute_result"
    }
   ],
   "source": [
    "type(b)"
   ]
  },
  {
   "cell_type": "code",
   "execution_count": 26,
   "id": "b789416b",
   "metadata": {},
   "outputs": [
    {
     "data": {
      "text/plain": [
       "1"
      ]
     },
     "execution_count": 26,
     "metadata": {},
     "output_type": "execute_result"
    }
   ],
   "source": [
    "b=+ True\n",
    "b"
   ]
  },
  {
   "cell_type": "code",
   "execution_count": 27,
   "id": "c59cce7a",
   "metadata": {},
   "outputs": [
    {
     "data": {
      "text/plain": [
       "2"
      ]
     },
     "execution_count": 27,
     "metadata": {},
     "output_type": "execute_result"
    }
   ],
   "source": [
    "b = b +  True\n",
    "b"
   ]
  },
  {
   "cell_type": "code",
   "execution_count": 28,
   "id": "b2d0af7c",
   "metadata": {},
   "outputs": [
    {
     "data": {
      "text/plain": [
       "22.0"
      ]
     },
     "execution_count": 28,
     "metadata": {},
     "output_type": "execute_result"
    }
   ],
   "source": [
    "float(22)"
   ]
  },
  {
   "cell_type": "code",
   "execution_count": 29,
   "id": "552818fd",
   "metadata": {},
   "outputs": [
    {
     "data": {
      "text/plain": [
       "22.8"
      ]
     },
     "execution_count": 29,
     "metadata": {},
     "output_type": "execute_result"
    }
   ],
   "source": [
    "float('22.8')"
   ]
  },
  {
   "cell_type": "code",
   "execution_count": 30,
   "id": "39759ee9",
   "metadata": {},
   "outputs": [
    {
     "ename": "ValueError",
     "evalue": "could not convert string to float: 'ag'",
     "output_type": "error",
     "traceback": [
      "\u001b[0;31m---------------------------------------------------------------------------\u001b[0m",
      "\u001b[0;31mValueError\u001b[0m                                Traceback (most recent call last)",
      "\u001b[0;32m/var/folders/t7/1qgr2szs2ld3t8j5fhgqtg9m0000gn/T/ipykernel_10130/25542230.py\u001b[0m in \u001b[0;36m<module>\u001b[0;34m\u001b[0m\n\u001b[0;32m----> 1\u001b[0;31m \u001b[0mfloat\u001b[0m\u001b[0;34m(\u001b[0m\u001b[0;34m\"ag\"\u001b[0m\u001b[0;34m)\u001b[0m\u001b[0;34m\u001b[0m\u001b[0;34m\u001b[0m\u001b[0m\n\u001b[0m",
      "\u001b[0;31mValueError\u001b[0m: could not convert string to float: 'ag'"
     ]
    }
   ],
   "source": [
    "float(\"ag\")"
   ]
  },
  {
   "cell_type": "code",
   "execution_count": 31,
   "id": "a0fd5f60",
   "metadata": {},
   "outputs": [
    {
     "data": {
      "text/plain": [
       "11"
      ]
     },
     "execution_count": 31,
     "metadata": {},
     "output_type": "execute_result"
    }
   ],
   "source": [
    "int(11.7)"
   ]
  },
  {
   "cell_type": "code",
   "execution_count": 32,
   "id": "9bf1fa0a",
   "metadata": {},
   "outputs": [],
   "source": [
    "# print function is a persistent command"
   ]
  },
  {
   "cell_type": "markdown",
   "id": "1a9db51f",
   "metadata": {},
   "source": [
    "Input to a program"
   ]
  },
  {
   "cell_type": "code",
   "execution_count": 35,
   "id": "26573a57",
   "metadata": {},
   "outputs": [
    {
     "name": "stdout",
     "output_type": "stream",
     "text": [
      "Please enter your age: 24\n"
     ]
    },
    {
     "data": {
      "text/plain": [
       "24"
      ]
     },
     "execution_count": 35,
     "metadata": {},
     "output_type": "execute_result"
    }
   ],
   "source": [
    "age = int(input(\"Please enter your age: \"))\n",
    "age   "
   ]
  },
  {
   "cell_type": "code",
   "execution_count": 37,
   "id": "ee190cc5",
   "metadata": {},
   "outputs": [
    {
     "name": "stdout",
     "output_type": "stream",
     "text": [
      "Please enter your name:yyy\n"
     ]
    },
    {
     "data": {
      "text/plain": [
       "'yyy'"
      ]
     },
     "execution_count": 37,
     "metadata": {},
     "output_type": "execute_result"
    }
   ],
   "source": [
    "name = input(\"Please enter your name:\")\n",
    "name"
   ]
  },
  {
   "cell_type": "code",
   "execution_count": 38,
   "id": "7e558072",
   "metadata": {},
   "outputs": [
    {
     "name": "stdout",
     "output_type": "stream",
     "text": [
      "ABC\n",
      "CDE\n"
     ]
    },
    {
     "ename": "ValueError",
     "evalue": "invalid literal for int() with base 10: 'CDE'",
     "output_type": "error",
     "traceback": [
      "\u001b[0;31m---------------------------------------------------------------------------\u001b[0m",
      "\u001b[0;31mValueError\u001b[0m                                Traceback (most recent call last)",
      "\u001b[0;32m/var/folders/t7/1qgr2szs2ld3t8j5fhgqtg9m0000gn/T/ipykernel_10130/399607302.py\u001b[0m in \u001b[0;36m<module>\u001b[0;34m\u001b[0m\n\u001b[1;32m      1\u001b[0m \u001b[0mInput1\u001b[0m \u001b[0;34m=\u001b[0m \u001b[0minput\u001b[0m\u001b[0;34m(\u001b[0m\u001b[0;34m)\u001b[0m\u001b[0;34m\u001b[0m\u001b[0;34m\u001b[0m\u001b[0m\n\u001b[0;32m----> 2\u001b[0;31m \u001b[0mInput2\u001b[0m \u001b[0;34m=\u001b[0m \u001b[0mint\u001b[0m\u001b[0;34m(\u001b[0m\u001b[0minput\u001b[0m\u001b[0;34m(\u001b[0m\u001b[0;34m)\u001b[0m\u001b[0;34m)\u001b[0m\u001b[0;34m\u001b[0m\u001b[0;34m\u001b[0m\u001b[0m\n\u001b[0m\u001b[1;32m      3\u001b[0m \u001b[0mResult\u001b[0m \u001b[0;34m=\u001b[0m \u001b[0mInput1\u001b[0m \u001b[0;34m+\u001b[0m \u001b[0mInput2\u001b[0m\u001b[0;34m\u001b[0m\u001b[0;34m\u001b[0m\u001b[0m\n\u001b[1;32m      4\u001b[0m \u001b[0mprint\u001b[0m\u001b[0;34m(\u001b[0m\u001b[0mResult\u001b[0m\u001b[0;34m)\u001b[0m\u001b[0;34m\u001b[0m\u001b[0;34m\u001b[0m\u001b[0m\n",
      "\u001b[0;31mValueError\u001b[0m: invalid literal for int() with base 10: 'CDE'"
     ]
    }
   ],
   "source": [
    "Input1 = input()\n",
    "Input2 = int(input())\n",
    "Result = Input1 + Input2\n",
    "print(Result)"
   ]
  },
  {
   "cell_type": "markdown",
   "id": "b5a05752",
   "metadata": {},
   "source": [
    "Comments to code, single and multi-line"
   ]
  },
  {
   "cell_type": "code",
   "execution_count": 41,
   "id": "0f1c96f9",
   "metadata": {},
   "outputs": [
    {
     "name": "stdout",
     "output_type": "stream",
     "text": [
      "hello\n"
     ]
    },
    {
     "data": {
      "text/plain": [
       "'\\nline 1\\nline 2\\nline 3 \\nline 4 comments\\n'"
      ]
     },
     "execution_count": 41,
     "metadata": {},
     "output_type": "execute_result"
    }
   ],
   "source": [
    "# single line or mid-line comment\n",
    "print('hello') # mid-line\n",
    "\n",
    "\"\"\"\n",
    "line 1\n",
    "line 2\n",
    "line 3 \n",
    "line 4 comments\n",
    "\"\"\"\n"
   ]
  },
  {
   "cell_type": "markdown",
   "id": "c99d85b0",
   "metadata": {},
   "source": [
    "If comment is last in your code it prints it anyway, this is interesting, but below where there's a succeeding print statement it does not output multi-line comment\n",
    "# comments are never outputed\n",
    "*hello*\n",
    "**hello**\n",
    "***hello***\n",
    "## what is this\n",
    "### heading 3\n"
   ]
  },
  {
   "cell_type": "code",
   "execution_count": 42,
   "id": "23a65671",
   "metadata": {},
   "outputs": [
    {
     "name": "stdout",
     "output_type": "stream",
     "text": [
      "hello\n"
     ]
    }
   ],
   "source": [
    "\"\"\"\n",
    "line 1\n",
    "line 2\n",
    "line 3 \n",
    "line 4 comments\n",
    "\"\"\"\n",
    "print('hello') # mid-line"
   ]
  },
  {
   "cell_type": "code",
   "execution_count": 43,
   "id": "981fd34b",
   "metadata": {},
   "outputs": [],
   "source": [
    "# comment 1\n",
    "# comment 2\n",
    "# comment x"
   ]
  },
  {
   "cell_type": "code",
   "execution_count": 45,
   "id": "fc204a6f",
   "metadata": {},
   "outputs": [
    {
     "name": "stdout",
     "output_type": "stream",
     "text": [
      "sum= 6\n",
      "difference= -2\n",
      "multiplication= 8\n",
      "division= 0.5\n",
      "remainder= 2\n",
      "power= 16\n",
      "integer division= 0\n"
     ]
    }
   ],
   "source": [
    "#Arithmatic\n",
    "a=2\n",
    "b=4\n",
    "print(\"sum=\", a+b)\n",
    "print(\"difference=\", a-b)\n",
    "print(\"multiplication=\", a*b)\n",
    "print(\"division=\", a/b)\n",
    "print(\"remainder=\", a%b)\n",
    "print(\"power=\", a**b)\n",
    "print(\"integer division=\", a//b)"
   ]
  },
  {
   "cell_type": "code",
   "execution_count": 55,
   "id": "2157d6ec",
   "metadata": {},
   "outputs": [
    {
     "name": "stdout",
     "output_type": "stream",
     "text": [
      "12\n",
      "7\n",
      "35\n",
      "7.0\n",
      "2.0\n",
      "32.0\n"
     ]
    }
   ],
   "source": [
    "a += 5\n",
    "print(a)\n",
    "a -= 5\n",
    "print(a)\n",
    "a *= 5\n",
    "print(a)\n",
    "a /= 5\n",
    "print(a)\n",
    "a %= 5\n",
    "print(a)\n",
    "a **= 5\n",
    "print(a)"
   ]
  },
  {
   "cell_type": "markdown",
   "id": "70811a9c",
   "metadata": {},
   "source": [
    "## PEMDAS rule is applied for arithmatic operations in python\n",
    "Parantheses Exponentiation, Multiplication, division, Add, subtract"
   ]
  },
  {
   "cell_type": "markdown",
   "id": "c57303ff",
   "metadata": {},
   "source": [
    "## Sequence types\n",
    "https://docs.python.org/3/library/stdtypes.html#sequence-types-list-tuple-range\n",
    "\n",
    "### List \n",
    "- accepts hetergeneous types of values\n",
    "- Mutable\n",
    "- represented enclosed in []\n",
    "- can be accessed by integer index"
   ]
  },
  {
   "cell_type": "code",
   "execution_count": 46,
   "id": "1a1ff710",
   "metadata": {},
   "outputs": [
    {
     "name": "stdout",
     "output_type": "stream",
     "text": [
      "['a', 'bc', 'de', 1, 2, 3, [1, 1]]\n"
     ]
    }
   ],
   "source": [
    "l = [\"a\", \"bc\", \"de\", 1, 2 , 3, [1, 1]]\n",
    "print(l)"
   ]
  },
  {
   "cell_type": "code",
   "execution_count": 47,
   "id": "cf728e8b",
   "metadata": {},
   "outputs": [
    {
     "data": {
      "text/plain": [
       "7"
      ]
     },
     "execution_count": 47,
     "metadata": {},
     "output_type": "execute_result"
    }
   ],
   "source": [
    "len(l)"
   ]
  },
  {
   "cell_type": "code",
   "execution_count": 48,
   "id": "ae0549e0",
   "metadata": {},
   "outputs": [
    {
     "data": {
      "text/plain": [
       "range(0, 7)"
      ]
     },
     "execution_count": 48,
     "metadata": {},
     "output_type": "execute_result"
    }
   ],
   "source": [
    "range(len(l))"
   ]
  },
  {
   "cell_type": "code",
   "execution_count": 49,
   "id": "8cd05063",
   "metadata": {},
   "outputs": [
    {
     "name": "stdout",
     "output_type": "stream",
     "text": [
      "[0, 1, 2, 3, 4]\n"
     ]
    }
   ],
   "source": [
    "new_list = list(range(0, 5))\n",
    "print(new_list)"
   ]
  },
  {
   "cell_type": "code",
   "execution_count": 52,
   "id": "c254790a",
   "metadata": {},
   "outputs": [
    {
     "data": {
      "text/plain": [
       "[1, 2, 3, 4, 5]"
      ]
     },
     "execution_count": 52,
     "metadata": {},
     "output_type": "execute_result"
    }
   ],
   "source": [
    "new_list = list(range(1,6))\n",
    "new_list\n"
   ]
  },
  {
   "cell_type": "code",
   "execution_count": 57,
   "id": "5ce32e53",
   "metadata": {},
   "outputs": [
    {
     "data": {
      "text/plain": [
       "['a',\n",
       " 'b',\n",
       " 'c',\n",
       " 'd',\n",
       " 'e',\n",
       " 'f',\n",
       " 'g',\n",
       " 'h',\n",
       " 'i',\n",
       " 'j',\n",
       " 'k',\n",
       " 'l',\n",
       " 'm',\n",
       " 'n',\n",
       " 'o',\n",
       " 'p',\n",
       " 'q',\n",
       " 'r',\n",
       " 's',\n",
       " 't',\n",
       " 'u',\n",
       " 'v',\n",
       " 'w',\n",
       " 'x',\n",
       " 'y',\n",
       " 'z']"
      ]
     },
     "execution_count": 57,
     "metadata": {},
     "output_type": "execute_result"
    }
   ],
   "source": [
    "alphabets = \"abcdefghijklmnopqrstuvwxyz\"\n",
    "listChars = list(alphabets)\n",
    "listChars"
   ]
  },
  {
   "cell_type": "code",
   "execution_count": 58,
   "id": "d163dcd6",
   "metadata": {},
   "outputs": [
    {
     "data": {
      "text/plain": [
       "['f', 'h', 'j', 'l', 'n', 'p', 'r', 't']"
      ]
     },
     "execution_count": 58,
     "metadata": {},
     "output_type": "execute_result"
    }
   ],
   "source": [
    "listChars[5:20:2] #[start_index : end_before_index : step_count]"
   ]
  },
  {
   "cell_type": "code",
   "execution_count": 59,
   "id": "64b9c668",
   "metadata": {},
   "outputs": [
    {
     "data": {
      "text/plain": [
       "'a'"
      ]
     },
     "execution_count": 59,
     "metadata": {},
     "output_type": "execute_result"
    }
   ],
   "source": [
    "min(listChars)"
   ]
  },
  {
   "cell_type": "code",
   "execution_count": 60,
   "id": "49b96b44",
   "metadata": {},
   "outputs": [
    {
     "data": {
      "text/plain": [
       "'z'"
      ]
     },
     "execution_count": 60,
     "metadata": {},
     "output_type": "execute_result"
    }
   ],
   "source": [
    "max(listChars)"
   ]
  },
  {
   "cell_type": "code",
   "execution_count": 64,
   "id": "99ca0614",
   "metadata": {},
   "outputs": [
    {
     "data": {
      "text/plain": [
       "[1, 2, 3, 4, ['a', 'b', 'c', 'd', 'e']]"
      ]
     },
     "execution_count": 64,
     "metadata": {},
     "output_type": "execute_result"
    }
   ],
   "source": [
    "a = [1,2,3,4]\n",
    "a.append(listChars[:5])\n",
    "a"
   ]
  },
  {
   "cell_type": "code",
   "execution_count": 65,
   "id": "88e84b98",
   "metadata": {},
   "outputs": [
    {
     "data": {
      "text/plain": [
       "[1, 2, 3, 4]"
      ]
     },
     "execution_count": 65,
     "metadata": {},
     "output_type": "execute_result"
    }
   ],
   "source": [
    "del a[4]\n",
    "a"
   ]
  },
  {
   "cell_type": "code",
   "execution_count": 66,
   "id": "084ceb30",
   "metadata": {},
   "outputs": [
    {
     "data": {
      "text/plain": [
       "[1, 2, 3, 4, 'v', 'w', 'x', 'y', 'z']"
      ]
     },
     "execution_count": 66,
     "metadata": {},
     "output_type": "execute_result"
    }
   ],
   "source": [
    "a.extend(listChars[-5:])\n",
    "a"
   ]
  },
  {
   "cell_type": "code",
   "execution_count": 67,
   "id": "9d6440fa",
   "metadata": {},
   "outputs": [
    {
     "data": {
      "text/plain": [
       "True"
      ]
     },
     "execution_count": 67,
     "metadata": {},
     "output_type": "execute_result"
    }
   ],
   "source": [
    "\"v\" in a"
   ]
  },
  {
   "cell_type": "code",
   "execution_count": 68,
   "id": "8594abd2",
   "metadata": {},
   "outputs": [
    {
     "data": {
      "text/plain": [
       "True"
      ]
     },
     "execution_count": 68,
     "metadata": {},
     "output_type": "execute_result"
    }
   ],
   "source": [
    "4 in a"
   ]
  },
  {
   "cell_type": "code",
   "execution_count": 69,
   "id": "cb0ddf49",
   "metadata": {},
   "outputs": [
    {
     "data": {
      "text/plain": [
       "False"
      ]
     },
     "execution_count": 69,
     "metadata": {},
     "output_type": "execute_result"
    }
   ],
   "source": [
    "2 not in a"
   ]
  },
  {
   "cell_type": "code",
   "execution_count": 70,
   "id": "0f5438a4",
   "metadata": {},
   "outputs": [
    {
     "data": {
      "text/plain": [
       "7"
      ]
     },
     "execution_count": 70,
     "metadata": {},
     "output_type": "execute_result"
    }
   ],
   "source": [
    "a.index(\"y\")"
   ]
  },
  {
   "cell_type": "code",
   "execution_count": 71,
   "id": "d9648409",
   "metadata": {},
   "outputs": [
    {
     "data": {
      "text/plain": [
       "2"
      ]
     },
     "execution_count": 71,
     "metadata": {},
     "output_type": "execute_result"
    }
   ],
   "source": [
    "a.extend(listChars[-5:])\n",
    "a.count(\"v\")"
   ]
  },
  {
   "cell_type": "markdown",
   "id": "9378da93",
   "metadata": {},
   "source": [
    "### Tuple\n",
    "- Immutable\n",
    "- can contain heterogeneous types of values\n",
    "- represented enclosed in ()\n",
    "- can be accessed by integer index\n",
    "- if you need to identify values by name use namedTuple\n"
   ]
  },
  {
   "cell_type": "code",
   "execution_count": 73,
   "id": "1240195c",
   "metadata": {
    "scrolled": true
   },
   "outputs": [
    {
     "data": {
      "text/plain": [
       "'apple'"
      ]
     },
     "execution_count": 73,
     "metadata": {},
     "output_type": "execute_result"
    }
   ],
   "source": [
    "t=(1, 2, 3, \"apple\")\n",
    "t[3]"
   ]
  },
  {
   "cell_type": "code",
   "execution_count": 78,
   "id": "af0316e9",
   "metadata": {},
   "outputs": [
    {
     "ename": "TypeError",
     "evalue": "'tuple' object doesn't support item deletion",
     "output_type": "error",
     "traceback": [
      "\u001b[0;31m---------------------------------------------------------------------------\u001b[0m",
      "\u001b[0;31mTypeError\u001b[0m                                 Traceback (most recent call last)",
      "\u001b[0;32m/var/folders/t7/1qgr2szs2ld3t8j5fhgqtg9m0000gn/T/ipykernel_10130/1535061248.py\u001b[0m in \u001b[0;36m<module>\u001b[0;34m\u001b[0m\n\u001b[0;32m----> 1\u001b[0;31m \u001b[0;32mdel\u001b[0m \u001b[0mt\u001b[0m\u001b[0;34m[\u001b[0m\u001b[0;36m3\u001b[0m\u001b[0;34m]\u001b[0m\u001b[0;34m\u001b[0m\u001b[0;34m\u001b[0m\u001b[0m\n\u001b[0m",
      "\u001b[0;31mTypeError\u001b[0m: 'tuple' object doesn't support item deletion"
     ]
    }
   ],
   "source": [
    "del t[3]"
   ]
  },
  {
   "cell_type": "code",
   "execution_count": 79,
   "id": "68700bef",
   "metadata": {},
   "outputs": [
    {
     "ename": "TypeError",
     "evalue": "'tuple' object does not support item assignment",
     "output_type": "error",
     "traceback": [
      "\u001b[0;31m---------------------------------------------------------------------------\u001b[0m",
      "\u001b[0;31mTypeError\u001b[0m                                 Traceback (most recent call last)",
      "\u001b[0;32m/var/folders/t7/1qgr2szs2ld3t8j5fhgqtg9m0000gn/T/ipykernel_10130/2918231374.py\u001b[0m in \u001b[0;36m<module>\u001b[0;34m\u001b[0m\n\u001b[0;32m----> 1\u001b[0;31m \u001b[0mt\u001b[0m\u001b[0;34m[\u001b[0m\u001b[0;36m2\u001b[0m\u001b[0;34m]\u001b[0m \u001b[0;34m=\u001b[0m \u001b[0;36m4\u001b[0m\u001b[0;34m\u001b[0m\u001b[0;34m\u001b[0m\u001b[0m\n\u001b[0m",
      "\u001b[0;31mTypeError\u001b[0m: 'tuple' object does not support item assignment"
     ]
    }
   ],
   "source": [
    "t[2] = 4"
   ]
  },
  {
   "cell_type": "code",
   "execution_count": 74,
   "id": "fc223f55",
   "metadata": {},
   "outputs": [
    {
     "data": {
      "text/plain": [
       "[1, 2, 3, 4, 'v', 'w', 'x', 'y', 'z', 'v', 'w', 'x', 'y', 'z']"
      ]
     },
     "execution_count": 74,
     "metadata": {},
     "output_type": "execute_result"
    }
   ],
   "source": [
    "a"
   ]
  },
  {
   "cell_type": "code",
   "execution_count": 75,
   "id": "637978e3",
   "metadata": {},
   "outputs": [
    {
     "data": {
      "text/plain": [
       "'w'"
      ]
     },
     "execution_count": 75,
     "metadata": {},
     "output_type": "execute_result"
    }
   ],
   "source": [
    "a.pop(5) #pop() deletes one item at a time indicated by the index provided"
   ]
  },
  {
   "cell_type": "code",
   "execution_count": 76,
   "id": "b364df22",
   "metadata": {},
   "outputs": [
    {
     "data": {
      "text/plain": [
       "[1, 2, 3, 4, 'v', 'x', 'y', 'z', 'v', 'w', 'x', 'y', 'z']"
      ]
     },
     "execution_count": 76,
     "metadata": {},
     "output_type": "execute_result"
    }
   ],
   "source": [
    "a"
   ]
  },
  {
   "cell_type": "code",
   "execution_count": 77,
   "id": "0ab476a5",
   "metadata": {},
   "outputs": [
    {
     "data": {
      "text/plain": [
       "'z'"
      ]
     },
     "execution_count": 77,
     "metadata": {},
     "output_type": "execute_result"
    }
   ],
   "source": [
    "a.pop(-1)"
   ]
  },
  {
   "cell_type": "markdown",
   "id": "c302cc3d",
   "metadata": {},
   "source": [
    "## Dictionary\n",
    "- mutable\n",
    "- key-value pairs\n",
    "- uses {}\n"
   ]
  },
  {
   "cell_type": "code",
   "execution_count": 80,
   "id": "7c506ffe",
   "metadata": {},
   "outputs": [
    {
     "data": {
      "text/plain": [
       "{'name': 'Jill', 'age': 10, 'class': 4}"
      ]
     },
     "execution_count": 80,
     "metadata": {},
     "output_type": "execute_result"
    }
   ],
   "source": [
    "d1 = {\"name\": \"Jill\", \"age\": 10, \"class\":4}\n",
    "d2 = {\"name\": \"Jack\", \"age\": 12, \"class\":6}\n",
    "d = d1\n",
    "d"
   ]
  },
  {
   "cell_type": "code",
   "execution_count": 81,
   "id": "df2ef8ec",
   "metadata": {},
   "outputs": [
    {
     "data": {
      "text/plain": [
       "{'name': 'Jack', 'age': 12, 'class': 6}"
      ]
     },
     "execution_count": 81,
     "metadata": {},
     "output_type": "execute_result"
    }
   ],
   "source": [
    "d.update(d2)\n",
    "d"
   ]
  },
  {
   "cell_type": "code",
   "execution_count": 82,
   "id": "480d44dc",
   "metadata": {},
   "outputs": [
    {
     "name": "stdout",
     "output_type": "stream",
     "text": [
      "{}\n"
     ]
    }
   ],
   "source": [
    "d0 = {}\n",
    "d = d0\n",
    "d0.update(d)\n",
    "print(d0)\n"
   ]
  },
  {
   "cell_type": "code",
   "execution_count": 83,
   "id": "19796c7b",
   "metadata": {},
   "outputs": [
    {
     "data": {
      "text/plain": [
       "{}"
      ]
     },
     "execution_count": 83,
     "metadata": {},
     "output_type": "execute_result"
    }
   ],
   "source": [
    "d"
   ]
  },
  {
   "cell_type": "code",
   "execution_count": 88,
   "id": "9c446eb3",
   "metadata": {},
   "outputs": [
    {
     "data": {
      "text/plain": [
       "['a', 'b', 'c', 'd']"
      ]
     },
     "execution_count": 88,
     "metadata": {},
     "output_type": "execute_result"
    }
   ],
   "source": [
    "d = {\"d\":40, \"a\": 10, \"b\": 20, \"c\":30}\n",
    "sorted(d)"
   ]
  },
  {
   "cell_type": "code",
   "execution_count": 89,
   "id": "88c21229",
   "metadata": {},
   "outputs": [
    {
     "data": {
      "text/plain": [
       "{'d': 40, 'a': 10, 'b': 20, 'c': 30}"
      ]
     },
     "execution_count": 89,
     "metadata": {},
     "output_type": "execute_result"
    }
   ],
   "source": [
    "d"
   ]
  },
  {
   "cell_type": "code",
   "execution_count": 91,
   "id": "8ff7c2a6",
   "metadata": {},
   "outputs": [
    {
     "data": {
      "text/plain": [
       "{'d': 40, 'a': 10, 'b': 20, 'c': 30, 'x': 28}"
      ]
     },
     "execution_count": 91,
     "metadata": {},
     "output_type": "execute_result"
    }
   ],
   "source": [
    "d[\"x\"] = 28\n",
    "d"
   ]
  },
  {
   "cell_type": "code",
   "execution_count": 92,
   "id": "ea03047e",
   "metadata": {},
   "outputs": [
    {
     "data": {
      "text/plain": [
       "{'d': 40, 'a': 10, 'b': 20, 'c': 30}"
      ]
     },
     "execution_count": 92,
     "metadata": {},
     "output_type": "execute_result"
    }
   ],
   "source": [
    "d.popitem()\n",
    "d"
   ]
  },
  {
   "cell_type": "markdown",
   "id": "4fe2d6cd",
   "metadata": {},
   "source": [
    "## Set\n",
    "- mutable\n",
    "- distict values only\n",
    "- uses {}\n"
   ]
  },
  {
   "cell_type": "code",
   "execution_count": 2,
   "id": "a1e4f34f",
   "metadata": {},
   "outputs": [
    {
     "name": "stdout",
     "output_type": "stream",
     "text": [
      "2023-02-28 10:52:43.904131 : <test 123>\n"
     ]
    }
   ],
   "source": [
    "import datetime\n",
    "\n",
    "def log(parameter1):\n",
    "    print(str(datetime.datetime.now()) + \" : <\"+ parameter1 + \">\")\n",
    "    \n",
    "log(\"test 123\")"
   ]
  },
  {
   "cell_type": "code",
   "execution_count": 3,
   "id": "de709534",
   "metadata": {},
   "outputs": [
    {
     "data": {
      "text/plain": [
       "datetime.datetime"
      ]
     },
     "execution_count": 3,
     "metadata": {},
     "output_type": "execute_result"
    }
   ],
   "source": [
    "type(datetime.datetime.now())"
   ]
  },
  {
   "cell_type": "code",
   "execution_count": 14,
   "id": "8f5d93b1",
   "metadata": {},
   "outputs": [
    {
     "name": "stdout",
     "output_type": "stream",
     "text": [
      "percents:\n",
      " [20.0, 40.0, 60.0, 30.0, 50.0, 90.0, 22.0, 80.0, 66.0, 44.0]\n",
      "Rank:\n",
      " [40.0, 44.0, 50.0, 60.0, 66.0, 80.0, 90.0]\n"
     ]
    }
   ],
   "source": [
    "MaxMarks = 50\n",
    "\n",
    "isPass = lambda x: x >= 40 \n",
    "percent = lambda x: x*100/MaxMarks\n",
    "\n",
    "descending = lambda x, y: x if (x > y) else y\n",
    "\n",
    "marks = [10, 20, 30, 15, 25, 45, 11, 40, 33, 22]\n",
    "# names = [\"dd\", \"ff\", \"aa\", \"bb\", \"cc\", \"ee\", \"jj\", \"hh\", \"gg\", \"ii\"]\n",
    "\n",
    "percentScore = list(map(percent, marks))\n",
    "print(\"percents:\\n\", percentScore)\n",
    "\n",
    "passed = list(filter(isPass, percentScore))\n",
    "print(\"Rank:\\n\", sorted(passed))\n"
   ]
  },
  {
   "cell_type": "markdown",
   "id": "2e9b03f3",
   "metadata": {},
   "source": [
    "## Python differentiators\n",
    "\n",
    "- No curly braces for functions, : marks beginning & indentation determines scope\n",
    "- if, else and elif (elseif) for conditionals\n",
    "- match is like switch statement but can be used with not only literals, but also any types of variables or classes. case _: represents default case\n",
    "- Function can take variable number of arguments using *args parameter args is a list\n",
    "- Function can take named parameter pairs(keyword arguments) with **kwargs - is a dict\n",
    "- while loop\n",
    "- \n",
    "\n",
    "## Lambda\n",
    "- anonymous function object\n",
    "\n"
   ]
  },
  {
   "cell_type": "code",
   "execution_count": 1,
   "id": "54cc0ac6",
   "metadata": {},
   "outputs": [
    {
     "data": {
      "text/plain": [
       "10.000000000000002"
      ]
     },
     "execution_count": 1,
     "metadata": {},
     "output_type": "execute_result"
    }
   ],
   "source": [
    "100000**(1/5)"
   ]
  },
  {
   "cell_type": "code",
   "execution_count": 2,
   "id": "2a693a83",
   "metadata": {},
   "outputs": [
    {
     "data": {
      "text/plain": [
       "int"
      ]
     },
     "execution_count": 2,
     "metadata": {},
     "output_type": "execute_result"
    }
   ],
   "source": [
    "type(10)"
   ]
  },
  {
   "cell_type": "code",
   "execution_count": 5,
   "id": "87e3c8f8",
   "metadata": {},
   "outputs": [
    {
     "ename": "TypeError",
     "evalue": "can only concatenate list (not \"set\") to list",
     "output_type": "error",
     "traceback": [
      "\u001b[0;31m---------------------------------------------------------------------------\u001b[0m",
      "\u001b[0;31mTypeError\u001b[0m                                 Traceback (most recent call last)",
      "\u001b[0;32m/var/folders/t7/1qgr2szs2ld3t8j5fhgqtg9m0000gn/T/ipykernel_2852/3200999260.py\u001b[0m in \u001b[0;36m<module>\u001b[0;34m\u001b[0m\n\u001b[1;32m      3\u001b[0m \u001b[0mC\u001b[0m \u001b[0;34m=\u001b[0m \u001b[0;34m[\u001b[0m\u001b[0;34m\"Alpha\"\u001b[0m\u001b[0;34m,\u001b[0m \u001b[0;34m\"Beta\"\u001b[0m\u001b[0;34m,\u001b[0m \u001b[0;34m\"Gamma\"\u001b[0m\u001b[0;34m,\u001b[0m \u001b[0;34m\"Theta\"\u001b[0m\u001b[0;34m,\u001b[0m \u001b[0;34m\"Lambda\"\u001b[0m\u001b[0;34m]\u001b[0m\u001b[0;34m\u001b[0m\u001b[0;34m\u001b[0m\u001b[0m\n\u001b[1;32m      4\u001b[0m \u001b[0;34m\u001b[0m\u001b[0m\n\u001b[0;32m----> 5\u001b[0;31m \u001b[0mA\u001b[0m\u001b[0;34m+\u001b[0m\u001b[0mB\u001b[0m\u001b[0;34m+\u001b[0m\u001b[0mC\u001b[0m\u001b[0;34m\u001b[0m\u001b[0;34m\u001b[0m\u001b[0m\n\u001b[0m",
      "\u001b[0;31mTypeError\u001b[0m: can only concatenate list (not \"set\") to list"
     ]
    }
   ],
   "source": [
    "A= [10,20,30,40,50,60,70,80,90,100]\n",
    "B = {\"Alpha\", \"Beta\", \"Gamma\", \"Theta\", \"Lambda\"}\n",
    "C = [\"Alpha\", \"Beta\", \"Gamma\", \"Theta\", \"Lambda\"]\n",
    "\n",
    "A+B+C"
   ]
  },
  {
   "cell_type": "markdown",
   "id": "0cd3ab09",
   "metadata": {},
   "source": [
    "## Variable Naming style\n",
    "* Snake case - variable_name \n",
    "* Camel case - variableName\n"
   ]
  },
  {
   "cell_type": "markdown",
   "id": "b669f6e9",
   "metadata": {},
   "source": [
    "## When you need to create multiple joins Graph database would be a good idea\n"
   ]
  },
  {
   "cell_type": "markdown",
   "id": "61f91a0d",
   "metadata": {},
   "source": [
    "### Data brick ML ops - they have deployment options for ML and DS models"
   ]
  },
  {
   "cell_type": "markdown",
   "id": "eb0747e7",
   "metadata": {},
   "source": [
    "* ChatGPT as a resource to learning\n",
    "* Research on internet on drugs, you still need to validate the output it gives like we do when consuming any other content from internet\n",
    "* Python and R Language fall back to C code to implement it's features so performance is pretty simillar on both\n",
    "* R is \n",
    "* MetLab is dead\n",
    "* PowerBI, Tableau Periscope are data dashboarding tools, mostly for data analytics not data scientists \n",
    "* GraphQL is important when working with ML engineers when deploying integrating results from data science to web or any type of application\n",
    "\n",
    "\n",
    "\n"
   ]
  },
  {
   "cell_type": "code",
   "execution_count": 2,
   "id": "8ece143e",
   "metadata": {},
   "outputs": [
    {
     "name": "stdout",
     "output_type": "stream",
     "text": [
      "[121, 441, 900, 1156]\n"
     ]
    }
   ],
   "source": [
    "number = (11, 21, 30, 34)\n",
    "\n",
    "print(list(map(lambda x: x*x, number)))"
   ]
  },
  {
   "cell_type": "code",
   "execution_count": 4,
   "id": "528fa910",
   "metadata": {},
   "outputs": [
    {
     "name": "stdout",
     "output_type": "stream",
     "text": [
      "[6, 3, 4, 7]\n"
     ]
    }
   ],
   "source": [
    "sentence = 'Python for Data Science'\n",
    "words = sentence.split()\n",
    "\n",
    "print(list(map(lambda s: len(s), words)))"
   ]
  },
  {
   "cell_type": "code",
   "execution_count": 5,
   "id": "70d62313",
   "metadata": {},
   "outputs": [
    {
     "name": "stdout",
     "output_type": "stream",
     "text": [
      "[4, 0, 4, 3]\n"
     ]
    }
   ],
   "source": [
    "numbers = [ 74, 85, 14, 23 ]\n",
    "\n",
    "print(list(map(lambda x: x%5, numbers)))"
   ]
  },
  {
   "cell_type": "code",
   "execution_count": 9,
   "id": "686c302d",
   "metadata": {},
   "outputs": [
    {
     "name": "stdout",
     "output_type": "stream",
     "text": [
      "['I11', 'felt22', 'happy33', 'because44', 'I55', 'saw66', 'the77', 'others88', 'were99']\n"
     ]
    }
   ],
   "source": [
    "list1 = ['I', 'felt', 'happy', 'because', 'I', 'saw', 'the', 'others', 'were', 'happy']\n",
    "\n",
    "list2 = [11,22,33,44,55,66,77,88,99]\n",
    "\n",
    "print(list(map(lambda x, y: x+str(y), list1, list2)))"
   ]
  },
  {
   "cell_type": "code",
   "execution_count": 14,
   "id": "51ceab12",
   "metadata": {},
   "outputs": [
    {
     "name": "stdout",
     "output_type": "stream",
     "text": [
      "['t', 't', 'o', 'i']\n"
     ]
    }
   ],
   "source": [
    "arr1 = ['t','u','t','o','r','i','a','l']\n",
    "arr2 = ['p','o','i','n','t']\n",
    "\n",
    "\n",
    "print(list(filter(lambda x: arr2.count(x) != 0, arr1)))"
   ]
  },
  {
   "cell_type": "code",
   "execution_count": 15,
   "id": "431a6989",
   "metadata": {},
   "outputs": [
    {
     "name": "stdout",
     "output_type": "stream",
     "text": [
      "[21, 23, 443, 355, 743, 823, 1241, 3673, 37, 7]\n"
     ]
    }
   ],
   "source": [
    "numbers = [21, 23, 443, 355, 743, 823, 110, 1241, 3673, 352, 278, 37, 7]\n",
    "\n",
    "print(list(filter(lambda x: (x%2 != 0), numbers)))"
   ]
  },
  {
   "cell_type": "code",
   "execution_count": 16,
   "id": "04af34c6",
   "metadata": {},
   "outputs": [
    {
     "name": "stdout",
     "output_type": "stream",
     "text": [
      "Max: 7\n"
     ]
    }
   ],
   "source": [
    "list1 = [4, 5, 7, 2, 0, 1]\n",
    "\n",
    "print(\"Max:\", max(list1))"
   ]
  },
  {
   "cell_type": "code",
   "execution_count": 18,
   "id": "6ca4bde5",
   "metadata": {},
   "outputs": [
    {
     "name": "stdout",
     "output_type": "stream",
     "text": [
      "\r\n",
      "Usage:   \r\n",
      "  /Users/neha/opt/anaconda3/envs/sfds/bin/python -m pip install [options] <requirement specifier> [package-index-options] ...\r\n",
      "  /Users/neha/opt/anaconda3/envs/sfds/bin/python -m pip install [options] -r <requirements file> [package-index-options] ...\r\n",
      "  /Users/neha/opt/anaconda3/envs/sfds/bin/python -m pip install [options] [-e] <vcs project url> ...\r\n",
      "  /Users/neha/opt/anaconda3/envs/sfds/bin/python -m pip install [options] [-e] <local project path> ...\r\n",
      "  /Users/neha/opt/anaconda3/envs/sfds/bin/python -m pip install [options] <archive url/path> ...\r\n",
      "\r\n",
      "Description:\r\n",
      "  Install packages from:\r\n",
      "  \r\n",
      "  - PyPI (and other indexes) using requirement specifiers.\r\n",
      "  - VCS project urls.\r\n",
      "  - Local project directories.\r\n",
      "  - Local or remote source archives.\r\n",
      "  \r\n",
      "  pip also supports installing from \"requirements files\", which provide\r\n",
      "  an easy way to specify a whole environment to be installed.\r\n",
      "\r\n",
      "Install Options:\r\n",
      "  -r, --requirement <file>    Install from the given requirements file. This\r\n",
      "                              option can be used multiple times.\r\n",
      "  -c, --constraint <file>     Constrain versions using the given constraints\r\n",
      "                              file. This option can be used multiple times.\r\n",
      "  --no-deps                   Don't install package dependencies.\r\n",
      "  --pre                       Include pre-release and development versions. By\r\n",
      "                              default, pip only finds stable versions.\r\n",
      "  -e, --editable <path/url>   Install a project in editable mode (i.e.\r\n",
      "                              setuptools \"develop mode\") from a local project\r\n",
      "                              path or a VCS url.\r\n",
      "  --dry-run                   Don't actually install anything, just print what\r\n",
      "                              would be. Can be used in combination with\r\n",
      "                              --ignore-installed to 'resolve' the\r\n",
      "                              requirements.\r\n",
      "  -t, --target <dir>          Install packages into <dir>. By default this\r\n",
      "                              will not replace existing files/folders in\r\n",
      "                              <dir>. Use --upgrade to replace existing\r\n",
      "                              packages in <dir> with new versions.\r\n",
      "  --platform <platform>       Only use wheels compatible with <platform>.\r\n",
      "                              Defaults to the platform of the running system.\r\n",
      "                              Use this option multiple times to specify\r\n",
      "                              multiple platforms supported by the target\r\n",
      "                              interpreter.\r\n",
      "  --python-version <python_version>\r\n",
      "                              The Python interpreter version to use for wheel\r\n",
      "                              and \"Requires-Python\" compatibility checks.\r\n",
      "                              Defaults to a version derived from the running\r\n",
      "                              interpreter. The version can be specified using\r\n",
      "                              up to three dot-separated integers (e.g. \"3\" for\r\n",
      "                              3.0.0, \"3.7\" for 3.7.0, or \"3.7.3\"). A major-\r\n",
      "                              minor version can also be given as a string\r\n",
      "                              without dots (e.g. \"37\" for 3.7.0).\r\n",
      "  --implementation <implementation>\r\n",
      "                              Only use wheels compatible with Python\r\n",
      "                              implementation <implementation>, e.g. 'pp',\r\n",
      "                              'jy', 'cp',  or 'ip'. If not specified, then the\r\n",
      "                              current interpreter implementation is used.  Use\r\n",
      "                              'py' to force implementation-agnostic wheels.\r\n",
      "  --abi <abi>                 Only use wheels compatible with Python abi\r\n",
      "                              <abi>, e.g. 'pypy_41'. If not specified, then\r\n",
      "                              the current interpreter abi tag is used. Use\r\n",
      "                              this option multiple times to specify multiple\r\n",
      "                              abis supported by the target interpreter.\r\n",
      "                              Generally you will need to specify\r\n",
      "                              --implementation, --platform, and --python-\r\n",
      "                              version when using this option.\r\n",
      "  --user                      Install to the Python user install directory for\r\n",
      "                              your platform. Typically ~/.local/, or\r\n",
      "                              %APPDATA%\\Python on Windows. (See the Python\r\n",
      "                              documentation for site.USER_BASE for full\r\n",
      "                              details.)\r\n",
      "  --root <dir>                Install everything relative to this alternate\r\n",
      "                              root directory.\r\n",
      "  --prefix <dir>              Installation prefix where lib, bin and other\r\n",
      "                              top-level folders are placed\r\n",
      "  --src <dir>                 Directory to check out editable projects into.\r\n",
      "                              The default in a virtualenv is \"<venv\r\n",
      "                              path>/src\". The default for global installs is\r\n",
      "                              \"<current dir>/src\".\r\n",
      "  -U, --upgrade               Upgrade all specified packages to the newest\r\n",
      "                              available version. The handling of dependencies\r\n",
      "                              depends on the upgrade-strategy used.\r\n",
      "  --upgrade-strategy <upgrade_strategy>\r\n",
      "                              Determines how dependency upgrading should be\r\n",
      "                              handled [default: only-if-needed]. \"eager\" -\r\n",
      "                              dependencies are upgraded regardless of whether\r\n",
      "                              the currently installed version satisfies the\r\n",
      "                              requirements of the upgraded package(s). \"only-\r\n",
      "                              if-needed\" -  are upgraded only when they do not\r\n",
      "                              satisfy the requirements of the upgraded\r\n",
      "                              package(s).\r\n",
      "  --force-reinstall           Reinstall all packages even if they are already\r\n",
      "                              up-to-date.\r\n",
      "  -I, --ignore-installed      Ignore the installed packages, overwriting them.\r\n",
      "                              This can break your system if the existing\r\n",
      "                              package is of a different version or was\r\n",
      "                              installed with a different package manager!\r\n",
      "  --ignore-requires-python    Ignore the Requires-Python information.\r\n",
      "  --no-build-isolation        Disable isolation when building a modern source\r\n",
      "                              distribution. Build dependencies specified by\r\n",
      "                              PEP 518 must be already installed if this option\r\n",
      "                              is used.\r\n",
      "  --use-pep517                Use PEP 517 for building source distributions\r\n",
      "                              (use --no-use-pep517 to force legacy behaviour).\r\n",
      "  --check-build-dependencies  Check the build dependencies when PEP517 is\r\n",
      "                              used.\r\n",
      "  --break-system-packages     Allow pip to modify an EXTERNALLY-MANAGED Python\r\n",
      "                              installation\r\n",
      "  --config-settings <settings>\r\n",
      "                              Configuration settings to be passed to the PEP\r\n",
      "                              517 build backend. Settings take the form\r\n",
      "                              KEY=VALUE. Use multiple --config-settings\r\n",
      "                              options to pass multiple keys to the backend.\r\n",
      "  --install-option <options>  This option is deprecated. Using this option\r\n",
      "                              with location-changing options may cause\r\n",
      "                              unexpected behavior. Use pip-level options like\r\n",
      "                              --user, --prefix, --root, and --target.\r\n",
      "  --global-option <options>   Extra global options to be supplied to the\r\n",
      "                              setup.py call before the install or bdist_wheel\r\n",
      "                              command.\r\n",
      "  --compile                   Compile Python source files to bytecode\r\n",
      "  --no-compile                Do not compile Python source files to bytecode\r\n",
      "  --no-warn-script-location   Do not warn when installing scripts outside PATH\r\n",
      "  --no-warn-conflicts         Do not warn about broken dependencies\r\n",
      "  --no-binary <format_control>\r\n",
      "                              Do not use binary packages. Can be supplied\r\n",
      "                              multiple times, and each time adds to the\r\n",
      "                              existing value. Accepts either \":all:\" to\r\n",
      "                              disable all binary packages, \":none:\" to empty\r\n",
      "                              the set (notice the colons), or one or more\r\n",
      "                              package names with commas between them (no\r\n",
      "                              colons). Note that some packages are tricky to\r\n",
      "                              compile and may fail to install when this option\r\n",
      "                              is used on them.\r\n",
      "  --only-binary <format_control>\r\n",
      "                              Do not use source packages. Can be supplied\r\n",
      "                              multiple times, and each time adds to the\r\n",
      "                              existing value. Accepts either \":all:\" to\r\n",
      "                              disable all source packages, \":none:\" to empty\r\n",
      "                              the set, or one or more package names with\r\n",
      "                              commas between them. Packages without binary\r\n",
      "                              distributions will fail to install when this\r\n",
      "                              option is used on them.\r\n",
      "  --prefer-binary             Prefer older binary packages over newer source\r\n",
      "                              packages.\r\n",
      "  --require-hashes            Require a hash to check each requirement\r\n",
      "                              against, for repeatable installs. This option is\r\n",
      "                              implied when any package in a requirements file\r\n",
      "                              has a --hash option.\r\n",
      "  --progress-bar <progress_bar>\r\n",
      "                              Specify whether the progress bar should be used\r\n",
      "                              [on, off] (default: on)\r\n",
      "  --root-user-action <root_user_action>\r\n",
      "                              Action if pip is run as a root user. By default,\r\n",
      "                              a warning message is shown.\r\n",
      "  --report <file>             Generate a JSON file describing what pip did to\r\n",
      "                              install the provided requirements. Can be used\r\n",
      "                              in combination with --dry-run and --ignore-\r\n",
      "                              installed to 'resolve' the requirements. When -\r\n",
      "                              is used as file name it writes to stdout. When\r\n",
      "                              writing to stdout, please combine with the\r\n",
      "                              --quiet option to avoid mixing pip logging\r\n",
      "                              output with JSON output.\r\n",
      "  --no-clean                  Don't clean up build directories.\r\n",
      "\r\n",
      "Package Index Options:\r\n",
      "  -i, --index-url <url>       Base URL of the Python Package Index (default\r\n",
      "                              https://pypi.org/simple). This should point to a\r\n",
      "                              repository compliant with PEP 503 (the simple\r\n",
      "                              repository API) or a local directory laid out in\r\n",
      "                              the same format.\r\n",
      "  --extra-index-url <url>     Extra URLs of package indexes to use in addition\r\n",
      "                              to --index-url. Should follow the same rules as\r\n",
      "                              --index-url.\r\n",
      "  --no-index                  Ignore package index (only looking at --find-\r\n",
      "                              links URLs instead).\r\n",
      "  -f, --find-links <url>      If a URL or path to an html file, then parse for\r\n",
      "                              links to archives such as sdist (.tar.gz) or\r\n",
      "                              wheel (.whl) files. If a local path or file://\r\n",
      "                              URL that's a directory, then look for archives\r\n",
      "                              in the directory listing. Links to VCS project\r\n",
      "                              URLs are not supported.\r\n",
      "\r\n",
      "General Options:\r\n",
      "  -h, --help                  Show help.\r\n",
      "  --debug                     Let unhandled exceptions propagate outside the\r\n",
      "                              main subroutine, instead of logging them to\r\n",
      "                              stderr.\r\n",
      "  --isolated                  Run pip in an isolated mode, ignoring\r\n",
      "                              environment variables and user configuration.\r\n",
      "  --require-virtualenv        Allow pip to only run in a virtual environment;\r\n",
      "                              exit with an error otherwise.\r\n",
      "  --python <python>           Run pip with the specified Python interpreter.\r\n",
      "  -v, --verbose               Give more output. Option is additive, and can be\r\n",
      "                              used up to 3 times.\r\n",
      "  -V, --version               Show version and exit.\r\n",
      "  -q, --quiet                 Give less output. Option is additive, and can be\r\n",
      "                              used up to 3 times (corresponding to WARNING,\r\n",
      "                              ERROR, and CRITICAL logging levels).\r\n",
      "  --log <path>                Path to a verbose appending log.\r\n",
      "  --no-input                  Disable prompting for input.\r\n",
      "  --proxy <proxy>             Specify a proxy in the form\r\n",
      "                              scheme://[user:passwd@]proxy.server:port.\r\n",
      "  --retries <retries>         Maximum number of retries each connection should\r\n",
      "                              attempt (default 5 times).\r\n",
      "  --timeout <sec>             Set the socket timeout (default 15 seconds).\r\n",
      "  --exists-action <action>    Default action when a path already exists:\r\n",
      "                              (s)witch, (i)gnore, (w)ipe, (b)ackup, (a)bort.\r\n",
      "  --trusted-host <hostname>   Mark this host or host:port pair as trusted,\r\n",
      "                              even though it does not have valid or any HTTPS.\r\n",
      "  --cert <path>               Path to PEM-encoded CA certificate bundle. If\r\n",
      "                              provided, overrides the default. See 'SSL\r\n",
      "                              Certificate Verification' in pip documentation\r\n",
      "                              for more information.\r\n",
      "  --client-cert <path>        Path to SSL client certificate, a single file\r\n",
      "                              containing the private key and the certificate\r\n",
      "                              in PEM format.\r\n",
      "  --cache-dir <dir>           Store the cache data in <dir>.\r\n",
      "  --no-cache-dir              Disable the cache.\r\n",
      "  --disable-pip-version-check\r\n",
      "                              Don't periodically check PyPI to determine\r\n",
      "                              whether a new version of pip is available for\r\n",
      "                              download. Implied with --no-index.\r\n",
      "  --no-color                  Suppress colored output.\r\n",
      "  --no-python-version-warning\r\n",
      "                              Silence deprecation warnings for upcoming\r\n",
      "                              unsupported Pythons.\r\n",
      "  --use-feature <feature>     Enable new functionality, that may be backward\r\n",
      "                              incompatible.\r\n",
      "  --use-deprecated <feature>  Enable deprecated functionality, that will be\r\n",
      "                              removed in the future.\r\n"
     ]
    },
    {
     "name": "stdout",
     "output_type": "stream",
     "text": [
      "Note: you may need to restart the kernel to use updated packages.\n"
     ]
    }
   ],
   "source": [
    "pip help install"
   ]
  },
  {
   "cell_type": "code",
   "execution_count": 39,
   "id": "2506d514",
   "metadata": {},
   "outputs": [
    {
     "name": "stdout",
     "output_type": "stream",
     "text": [
      "dimensions  2\n"
     ]
    },
    {
     "data": {
      "text/plain": [
       "numpy.ndarray"
      ]
     },
     "execution_count": 39,
     "metadata": {},
     "output_type": "execute_result"
    }
   ],
   "source": [
    "import numpy as np\n",
    "# 2D array - 2 dimention\n",
    "l = [[1,2,3], [4, 5,6], [7,8,9]]\n",
    "\n",
    "a = np.array(l)\n",
    "print(\"dimensions \", a.ndim)\n",
    "type(a)\n"
   ]
  },
  {
   "cell_type": "code",
   "execution_count": 32,
   "id": "48e67f10",
   "metadata": {},
   "outputs": [
    {
     "name": "stdout",
     "output_type": "stream",
     "text": [
      "2nd row [4 5 6]\n",
      "middle element 5\n",
      "2nd column [2 5 8]\n",
      "middle element 5\n",
      "2nd row, 2nd & 3rd colum elements [[5 6]]\n",
      "2nd column lower half [5 8]\n",
      "whole array [[1 2 3]\n",
      " [4 5 6]\n",
      " [7 8 9]]\n",
      "[[1 2 3]\n",
      " [4 5 6]\n",
      " [7 8 9]]\n"
     ]
    }
   ],
   "source": [
    "print(\"2nd row\", a[1])\n",
    "print(\"middle element\", a[1][1])\n",
    "\n",
    "print(\"2nd column\", a[:,1])\n",
    "\n",
    "print(\"middle element\", a[1,1])\n",
    "\n",
    "print(\"2nd row, 2nd & 3rd colum elements\", a[1:2, 1:])\n",
    "\n",
    "print(\"2nd column lower half\", a[1:,1])\n",
    "print(str.format(\"whole array {0}\\n{1}\", a[:], a))\n",
    "\n"
   ]
  },
  {
   "cell_type": "code",
   "execution_count": 25,
   "id": "7882eca8",
   "metadata": {},
   "outputs": [
    {
     "name": "stdout",
     "output_type": "stream",
     "text": [
      "get values from the 1st, 5th, and 8th positions  [10 14 17]\n"
     ]
    }
   ],
   "source": [
    "# 1D array - 1 dimention\n",
    "sample_array = np.array([10, 11, 12, 13, 14, 15, 16, 17, 18, 19, 20])\n",
    "print(\"get values from the 1st, 5th, and 8th positions \", sample_array[[0,4,7]])\n"
   ]
  },
  {
   "cell_type": "code",
   "execution_count": 33,
   "id": "ba3d32f0",
   "metadata": {},
   "outputs": [
    {
     "name": "stdout",
     "output_type": "stream",
     "text": [
      "1.23.5\n"
     ]
    }
   ],
   "source": [
    "print(np.__version__)"
   ]
  },
  {
   "cell_type": "code",
   "execution_count": 37,
   "id": "987d71ab",
   "metadata": {},
   "outputs": [
    {
     "name": "stdout",
     "output_type": "stream",
     "text": [
      "<class 'numpy.ndarray'>\n"
     ]
    },
    {
     "data": {
      "text/plain": [
       "0"
      ]
     },
     "execution_count": 37,
     "metadata": {},
     "output_type": "execute_result"
    }
   ],
   "source": [
    "# 0D array - zero dimention\n",
    "arr = np.array(42)\n",
    "\n",
    "print(type(arr))\n",
    "arr.ndim"
   ]
  },
  {
   "cell_type": "code",
   "execution_count": 40,
   "id": "2d3f94ca",
   "metadata": {},
   "outputs": [
    {
     "name": "stdout",
     "output_type": "stream",
     "text": [
      "[[[[[1 2 3 4]]]]]\n",
      "number of dimensions : 5\n"
     ]
    }
   ],
   "source": [
    "arr = np.array([1, 2, 3, 4], ndmin=5)\n",
    "\n",
    "print(arr)\n",
    "print('number of dimensions :', arr.ndim)"
   ]
  },
  {
   "cell_type": "code",
   "execution_count": 41,
   "id": "d0d3c531",
   "metadata": {},
   "outputs": [
    {
     "data": {
      "text/plain": [
       "array([[4, 5, 6]])"
      ]
     },
     "execution_count": 41,
     "metadata": {},
     "output_type": "execute_result"
    }
   ],
   "source": [
    "row2 = a[1:2, :]\n",
    "row2"
   ]
  },
  {
   "cell_type": "code",
   "execution_count": 42,
   "id": "406aea9c",
   "metadata": {},
   "outputs": [],
   "source": [
    "row2[0,1] = 55"
   ]
  },
  {
   "cell_type": "code",
   "execution_count": 43,
   "id": "b03db120",
   "metadata": {},
   "outputs": [
    {
     "data": {
      "text/plain": [
       "array([[ 4, 55,  6]])"
      ]
     },
     "execution_count": 43,
     "metadata": {},
     "output_type": "execute_result"
    }
   ],
   "source": [
    "row2"
   ]
  },
  {
   "cell_type": "code",
   "execution_count": 44,
   "id": "45cf51a7",
   "metadata": {},
   "outputs": [
    {
     "data": {
      "text/plain": [
       "array([[ 1,  2,  3],\n",
       "       [ 4, 55,  6],\n",
       "       [ 7,  8,  9]])"
      ]
     },
     "execution_count": 44,
     "metadata": {},
     "output_type": "execute_result"
    }
   ],
   "source": [
    "a"
   ]
  },
  {
   "cell_type": "code",
   "execution_count": 45,
   "id": "7ea16293",
   "metadata": {},
   "outputs": [
    {
     "data": {
      "text/plain": [
       "array([[  1,   2,   3],\n",
       "       [  4, 100,   6],\n",
       "       [  7,   8,   9]])"
      ]
     },
     "execution_count": 45,
     "metadata": {},
     "output_type": "execute_result"
    }
   ],
   "source": [
    "b = a[:]\n",
    "b[1,1] = 100\n",
    "a"
   ]
  },
  {
   "cell_type": "code",
   "execution_count": 46,
   "id": "d58822d8",
   "metadata": {},
   "outputs": [
    {
     "data": {
      "text/plain": [
       "array([[  1,   2,   3],\n",
       "       [  4, 100,   6],\n",
       "       [  7,   8,   9]])"
      ]
     },
     "execution_count": 46,
     "metadata": {},
     "output_type": "execute_result"
    }
   ],
   "source": [
    "c = a.copy()\n",
    "c[1,1] = 700\n",
    "a"
   ]
  },
  {
   "cell_type": "code",
   "execution_count": 47,
   "id": "4cd2816c",
   "metadata": {},
   "outputs": [
    {
     "data": {
      "text/plain": [
       "array([[  1,   2,   3],\n",
       "       [  4, 700,   6],\n",
       "       [  7,   8,   9]])"
      ]
     },
     "execution_count": 47,
     "metadata": {},
     "output_type": "execute_result"
    }
   ],
   "source": [
    "c"
   ]
  },
  {
   "cell_type": "code",
   "execution_count": 64,
   "id": "ae63b807",
   "metadata": {},
   "outputs": [
    {
     "name": "stdout",
     "output_type": "stream",
     "text": [
      "[11 12 13 14 15 16 17 18 19 20]\n",
      "[121 144 169 196 225 256 289 324 361 400]\n",
      "[12 14 16 18 20 22 24 26 28 30]\n"
     ]
    }
   ],
   "source": [
    "a = np.array([1,2,3,4,5,6,7,8,9,10])\n",
    "b = a+10\n",
    "print(b)\n",
    "\n",
    "c = b*b\n",
    "print (c)\n",
    "# This adds corresponding elements of 2 arrays with same dimension count, \n",
    "#not concatenation like in python lists\n",
    "print(a+b) "
   ]
  },
  {
   "cell_type": "code",
   "execution_count": 53,
   "id": "df329c74",
   "metadata": {},
   "outputs": [
    {
     "data": {
      "text/plain": [
       "array([  1,   4,   9,  16,  25,  36,  49,  64,  81, 100])"
      ]
     },
     "execution_count": 53,
     "metadata": {},
     "output_type": "execute_result"
    }
   ],
   "source": [
    "a**2"
   ]
  },
  {
   "cell_type": "code",
   "execution_count": 54,
   "id": "fdc234e4",
   "metadata": {},
   "outputs": [
    {
     "data": {
      "text/plain": [
       "array([ True, False,  True, False,  True, False,  True, False,  True,\n",
       "       False])"
      ]
     },
     "execution_count": 54,
     "metadata": {},
     "output_type": "execute_result"
    }
   ],
   "source": [
    "oddity = (a%2 != 0)\n",
    "oddity"
   ]
  },
  {
   "cell_type": "code",
   "execution_count": 55,
   "id": "41e48d4c",
   "metadata": {},
   "outputs": [
    {
     "data": {
      "text/plain": [
       "array([1, 3, 5, 7, 9])"
      ]
     },
     "execution_count": 55,
     "metadata": {},
     "output_type": "execute_result"
    }
   ],
   "source": [
    "# filter and get just odds\n",
    "a[oddity]"
   ]
  },
  {
   "cell_type": "code",
   "execution_count": 57,
   "id": "e944cfe9",
   "metadata": {},
   "outputs": [
    {
     "data": {
      "text/plain": [
       "array([ 2,  4,  6,  8, 10])"
      ]
     },
     "execution_count": 57,
     "metadata": {},
     "output_type": "execute_result"
    }
   ],
   "source": [
    "# filter and get just evens\n",
    "a[a%2 == 0]"
   ]
  },
  {
   "cell_type": "code",
   "execution_count": 59,
   "id": "fe8a3eee",
   "metadata": {},
   "outputs": [
    {
     "ename": "AttributeError",
     "evalue": "'numpy.ndarray' object has no attribute 'isEmpty'",
     "output_type": "error",
     "traceback": [
      "\u001b[0;31m---------------------------------------------------------------------------\u001b[0m",
      "\u001b[0;31mAttributeError\u001b[0m                            Traceback (most recent call last)",
      "Cell \u001b[0;32mIn[59], line 2\u001b[0m\n\u001b[1;32m      1\u001b[0m words \u001b[38;5;241m=\u001b[39m np\u001b[38;5;241m.\u001b[39marray([\u001b[38;5;124m\"\u001b[39m\u001b[38;5;124maaa\u001b[39m\u001b[38;5;124m\"\u001b[39m, \u001b[38;5;124m\"\u001b[39m\u001b[38;5;124m\"\u001b[39m, \u001b[38;5;124m\"\u001b[39m\u001b[38;5;124mbbb\u001b[39m\u001b[38;5;124m\"\u001b[39m, \u001b[38;5;124m\"\u001b[39m\u001b[38;5;124mccccccc\u001b[39m\u001b[38;5;124m\"\u001b[39m, \u001b[38;5;124m\"\u001b[39m\u001b[38;5;124mdd\u001b[39m\u001b[38;5;124m\"\u001b[39m, \u001b[38;5;124m\"\u001b[39m\u001b[38;5;124me\u001b[39m\u001b[38;5;124m\"\u001b[39m, \u001b[38;5;124m\"\u001b[39m\u001b[38;5;124m\"\u001b[39m])\n\u001b[0;32m----> 2\u001b[0m words[\u001b[43mwords\u001b[49m\u001b[38;5;241;43m.\u001b[39;49m\u001b[43misEmpty\u001b[49m() \u001b[38;5;241m!=\u001b[39m \u001b[38;5;28;01mTrue\u001b[39;00m]\n",
      "\u001b[0;31mAttributeError\u001b[0m: 'numpy.ndarray' object has no attribute 'isEmpty'"
     ]
    }
   ],
   "source": [
    "words = np.array([\"aaa\", \"\", \"bbb\", \"ccccccc\", \"dd\", \"e\", \"\"])\n",
    "words[words.isEmpty() != True] # "
   ]
  },
  {
   "cell_type": "code",
   "execution_count": 61,
   "id": "832e1e82",
   "metadata": {},
   "outputs": [
    {
     "name": "stdout",
     "output_type": "stream",
     "text": [
      "55\n",
      "1\n",
      "10\n",
      "[   1    8   27   64  125  216  343  512  729 1000]\n",
      "[0 1 2 3 4]\n"
     ]
    }
   ],
   "source": [
    "print(a.sum())\n",
    "print(a.min())\n",
    "print(a.max())\n",
    "print(np.power(a, 3))\n",
    "print(np.arange(5)) # ndarray of range"
   ]
  },
  {
   "cell_type": "code",
   "execution_count": 69,
   "id": "418411d5",
   "metadata": {},
   "outputs": [
    {
     "name": "stdout",
     "output_type": "stream",
     "text": [
      "(20,)\n"
     ]
    },
    {
     "data": {
      "text/plain": [
       "array([ 1,  2,  3,  4,  5,  6,  7,  8,  9, 10, 11, 12, 13, 14, 15, 16, 17,\n",
       "       18, 19, 20])"
      ]
     },
     "execution_count": 69,
     "metadata": {},
     "output_type": "execute_result"
    }
   ],
   "source": [
    "c = np.concatenate([a,b])\n",
    "print(c.shape)\n",
    "c\n"
   ]
  },
  {
   "cell_type": "code",
   "execution_count": 72,
   "id": "878d3ec2",
   "metadata": {},
   "outputs": [
    {
     "name": "stdout",
     "output_type": "stream",
     "text": [
      "axis=0\n",
      " [[ 11  22  33]\n",
      " [100 200 300]\n",
      " [ 44  55  66]\n",
      " [400 500 600]]\n",
      "axis=1\n",
      " [[ 11  22  33  44  55  66]\n",
      " [100 200 300 400 500 600]]\n"
     ]
    }
   ],
   "source": [
    "a = [[11, 22, 33], [100, 200, 300]]\n",
    "b = [[44, 55, 66], [400, 500, 600]]\n",
    "\n",
    "print(\"axis=0\\n\",np.concatenate([a,b])) \n",
    "# default axis 0 so adds rows, row dimension i.e column count must match\n",
    "\n",
    "#axis is 1 so adds columns hence column dimension i.e number of rows should match \n",
    "print(\"axis=1\\n\",np.concatenate([a,b], axis = 1))"
   ]
  },
  {
   "cell_type": "code",
   "execution_count": 73,
   "id": "132799af",
   "metadata": {},
   "outputs": [
    {
     "data": {
      "text/plain": [
       "array([[3, 5],\n",
       "       [5, 7],\n",
       "       [7, 9]])"
      ]
     },
     "execution_count": 73,
     "metadata": {},
     "output_type": "execute_result"
    }
   ],
   "source": [
    "x = np.array([[3], [5], [7]])\n",
    "\n",
    "y = np.array([[5], [7], [9]])\n",
    "\n",
    "np.concatenate([x,y], axis = 1)"
   ]
  },
  {
   "cell_type": "code",
   "execution_count": 74,
   "id": "3650c31e",
   "metadata": {},
   "outputs": [
    {
     "data": {
      "text/plain": [
       "[array([1, 2, 3, 4, 5]), array([ 6,  7,  8,  9, 10])]"
      ]
     },
     "execution_count": 74,
     "metadata": {},
     "output_type": "execute_result"
    }
   ],
   "source": [
    "a = np.array([1,2,3,4,5,6,7,8,9,10])\n",
    "np.split(a,2)\n",
    "# This has to result in even distribution dimention of spitted arrays else throws error\n",
    "# np.split(a,3) throws error"
   ]
  },
  {
   "cell_type": "code",
   "execution_count": 76,
   "id": "94d86fd2",
   "metadata": {},
   "outputs": [
    {
     "data": {
      "text/plain": [
       "[array([1, 2, 3]), array([4, 5, 6]), array([ 7,  8,  9, 10])]"
      ]
     },
     "execution_count": 76,
     "metadata": {},
     "output_type": "execute_result"
    }
   ],
   "source": [
    "np.split(a,[3,6])"
   ]
  },
  {
   "cell_type": "code",
   "execution_count": 77,
   "id": "7600182f",
   "metadata": {},
   "outputs": [
    {
     "data": {
      "text/plain": [
       "[array([1, 2, 3, 4]), array([5, 6, 7]), array([ 8,  9, 10])]"
      ]
     },
     "execution_count": 77,
     "metadata": {},
     "output_type": "execute_result"
    }
   ],
   "source": [
    "np.array_split(a,3) # this works always results in uneven split depending on dimension"
   ]
  },
  {
   "cell_type": "code",
   "execution_count": 78,
   "id": "471854ef",
   "metadata": {},
   "outputs": [
    {
     "data": {
      "text/plain": [
       "array([[ 0.,  1.,  2.,  3.,  4.],\n",
       "       [ 5.,  6.,  7.,  8.,  9.],\n",
       "       [10., 11., 12., 13., 14.],\n",
       "       [15., 16., 17., 18., 19.]])"
      ]
     },
     "execution_count": 78,
     "metadata": {},
     "output_type": "execute_result"
    }
   ],
   "source": [
    "rect = np.arange(20.0).reshape(4,5)\n",
    "rect"
   ]
  },
  {
   "cell_type": "code",
   "execution_count": 79,
   "id": "c6120965",
   "metadata": {},
   "outputs": [
    {
     "data": {
      "text/plain": [
       "[array([[0., 1., 2., 3., 4.],\n",
       "        [5., 6., 7., 8., 9.]]),\n",
       " array([[10., 11., 12., 13., 14.],\n",
       "        [15., 16., 17., 18., 19.]])]"
      ]
     },
     "execution_count": 79,
     "metadata": {},
     "output_type": "execute_result"
    }
   ],
   "source": [
    "#  vertical split, which is row-wise split\n",
    "np.vsplit(rect, 2)"
   ]
  },
  {
   "cell_type": "code",
   "execution_count": 83,
   "id": "146e21ba",
   "metadata": {},
   "outputs": [
    {
     "name": "stdout",
     "output_type": "stream",
     "text": [
      "[[ 0.  1.  2.  3.]\n",
      " [ 4.  5.  6.  7.]\n",
      " [ 8.  9. 10. 11.]\n",
      " [12. 13. 14. 15.]]\n"
     ]
    },
    {
     "data": {
      "text/plain": [
       "[array([[ 0.,  1.],\n",
       "        [ 4.,  5.],\n",
       "        [ 8.,  9.],\n",
       "        [12., 13.]]),\n",
       " array([[ 2.,  3.],\n",
       "        [ 6.,  7.],\n",
       "        [10., 11.],\n",
       "        [14., 15.]])]"
      ]
     },
     "execution_count": 83,
     "metadata": {},
     "output_type": "execute_result"
    }
   ],
   "source": [
    "#  horizontal split, which is column-wise split\n",
    "square = np.arange(16.0).reshape(4,4)\n",
    "print(square)\n",
    "np.hsplit(square, 2)\n",
    "\n",
    "# The split(), hsplit(), and vsplit() \n",
    "# functions can be used to split an array into equal-sized subarrays."
   ]
  },
  {
   "cell_type": "code",
   "execution_count": 86,
   "id": "cd722a96",
   "metadata": {},
   "outputs": [
    {
     "data": {
      "text/plain": [
       "[array([[ 0,  1,  2,  3,  4,  5],\n",
       "        [ 6,  7,  8,  9, 10, 11]]),\n",
       " array([[12, 13, 14, 15, 16, 17],\n",
       "        [18, 19, 20, 21, 22, 23]])]"
      ]
     },
     "execution_count": 86,
     "metadata": {},
     "output_type": "execute_result"
    }
   ],
   "source": [
    "rect = np.arange(24).reshape(4,6)\n",
    "np.vsplit(rect,2) # 3 here results in error"
   ]
  },
  {
   "cell_type": "code",
   "execution_count": 87,
   "id": "7ee03083",
   "metadata": {},
   "outputs": [
    {
     "data": {
      "text/plain": [
       "dtype('int64')"
      ]
     },
     "execution_count": 87,
     "metadata": {},
     "output_type": "execute_result"
    }
   ],
   "source": [
    "print(rect.dtype)\n",
    "print()"
   ]
  },
  {
   "cell_type": "code",
   "execution_count": 91,
   "id": "088644ce",
   "metadata": {},
   "outputs": [
    {
     "name": "stdout",
     "output_type": "stream",
     "text": [
      "[1 2 3 4 5] base None\n",
      "[1 2 3] base [1 2 3 4 5]\n"
     ]
    }
   ],
   "source": [
    "arr = np.array([1, 2, 3, 4, 5])\n",
    "\n",
    "x = arr.copy()\n",
    "y = arr[:3].view()\n",
    "\n",
    "print(x, \"base\", x.base)\n",
    "print(y, \"base\", y.base)\n",
    "\n",
    "# copy owns data hence does not have a base, but view does not own the data and base attribute\n",
    "# gives the owner of the data"
   ]
  },
  {
   "cell_type": "code",
   "execution_count": 96,
   "id": "f17a37bf",
   "metadata": {},
   "outputs": [
    {
     "name": "stdout",
     "output_type": "stream",
     "text": [
      "[[[[[1 2 3 4]]]]] shape (1, 1, 1, 1, 4)\n"
     ]
    }
   ],
   "source": [
    "rect.shape\n",
    "# number of elements in each dimension\n",
    "# think of it as number of axis in cartesian graph (xy in 2D & xyz in 3D)\n",
    "\n",
    "a = np.array([1,2,3,4], ndmin=5)\n",
    "print(a, \"shape\", a.shape)"
   ]
  },
  {
   "cell_type": "code",
   "execution_count": 97,
   "id": "beb72eea",
   "metadata": {},
   "outputs": [
    {
     "name": "stdout",
     "output_type": "stream",
     "text": [
      "[[[ 1  2]\n",
      "  [ 3  4]\n",
      "  [ 5  6]]\n",
      "\n",
      " [[ 7  8]\n",
      "  [ 9 10]\n",
      "  [11 12]]]\n"
     ]
    }
   ],
   "source": [
    "arr = np.array([1, 2, 3, 4, 5, 6, 7, 8, 9, 10, 11, 12])\n",
    "\n",
    "newarr = arr.reshape(2, 3, 2) # 2x3x2 = 12\n",
    "\n",
    "print(newarr)"
   ]
  },
  {
   "cell_type": "code",
   "execution_count": 99,
   "id": "c14979b9",
   "metadata": {},
   "outputs": [
    {
     "name": "stdout",
     "output_type": "stream",
     "text": [
      "[[[1 2]\n",
      "  [3 4]]\n",
      "\n",
      " [[5 6]\n",
      "  [7 8]]] (2, 2, 2)\n"
     ]
    }
   ],
   "source": [
    "arr = np.array([1, 2, 3, 4, 5, 6, 7, 8])\n",
    "\n",
    "newarr = arr.reshape(2, 2, -1) # if you don't know exact value let Numpy decide by giving -1\n",
    "\n",
    "print(newarr, newarr.shape)"
   ]
  },
  {
   "cell_type": "code",
   "execution_count": 105,
   "id": "45ee278f",
   "metadata": {},
   "outputs": [
    {
     "name": "stdout",
     "output_type": "stream",
     "text": [
      "1\n",
      "2\n",
      "3\n",
      "4\n",
      "5\n",
      "6\n",
      "7\n",
      "8\n"
     ]
    }
   ],
   "source": [
    "# for i in arr:\n",
    "#     print(i)\n",
    "\n",
    "for d1 in newarr:\n",
    "    for d2 in d1:\n",
    "        for d3 in d2:\n",
    "            print(d3)\n",
    "        \n",
    "    print(\"d1\")"
   ]
  },
  {
   "cell_type": "code",
   "execution_count": 113,
   "id": "b87a59cd",
   "metadata": {},
   "outputs": [
    {
     "name": "stdout",
     "output_type": "stream",
     "text": [
      "[[1 2 3 4]\n",
      " [5 6 7 8]]\n",
      "[[1 5]\n",
      " [2 6]\n",
      " [3 7]\n",
      " [4 8]]\n",
      "[1 2 3 4 5 6 7 8]\n"
     ]
    }
   ],
   "source": [
    "a = np.array([1, 2, 3,4])\n",
    "b= np.array([5,6,7,8])\n",
    "\n",
    "# stack - adds on a new axis\n",
    "\n",
    "print(\"stack axis 0\",np.stack((a,b), axis=0))\n",
    "print(\"stack axis 1\",np.stack((a,b), axis=1))\n",
    "print(\"hstack\",np.hstack((a,b)))\n",
    "\n"
   ]
  },
  {
   "cell_type": "code",
   "execution_count": null,
   "id": "7ecaa9fc",
   "metadata": {},
   "outputs": [],
   "source": []
  }
 ],
 "metadata": {
  "kernelspec": {
   "display_name": "Python 3 (ipykernel)",
   "language": "python",
   "name": "python3"
  },
  "language_info": {
   "codemirror_mode": {
    "name": "ipython",
    "version": 3
   },
   "file_extension": ".py",
   "mimetype": "text/x-python",
   "name": "python",
   "nbconvert_exporter": "python",
   "pygments_lexer": "ipython3",
   "version": "3.9.13"
  }
 },
 "nbformat": 4,
 "nbformat_minor": 5
}
