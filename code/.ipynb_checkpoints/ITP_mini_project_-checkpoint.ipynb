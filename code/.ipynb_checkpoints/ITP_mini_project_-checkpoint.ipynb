{
 "cells": [
  {
   "cell_type": "markdown",
   "metadata": {},
   "source": [
    "## <center>Introduction to Python Programming – Mini Project</center>\n"
   ]
  },
  {
   "cell_type": "markdown",
   "metadata": {},
   "source": [
    "### Problem 1\n",
    "\n",
    "Write a program to calculate area of shapes. Your program should be capable of calculating the area of a square, rectangle, triangle and a circle. The user should be presented with options to select the shape. Based on which shape is chosen by the user, the program should ask for the appropriate input and print the resulting area on the screen.\n",
    "\n",
    "When the program is run, the screen should display something like this:\n",
    "\n",
    "**Which shape would you like to calculate the area for? Please enter the option number-**<br>\n",
    "**1. Square**<br>\n",
    "**2. Rectangle**<br>\n",
    "**3. Triangle**<br>\n",
    "**4. Circle**<br>\n",
    "**Enter Option: _**\n",
    "\n",
    "Say the user enters the option 1.\n",
    "\n",
    "**Please enter the length of a side: _**\n",
    "\n",
    "If the user enters a value of 5. The output should be:\n",
    "\n",
    "**The area of the square is 25**\n",
    "\n",
    "This program should indicate that the input is invalid if the user enters a character instead of a number as input. For instance if the user enters a value of ‘a’ instead of 5 in the previous example the program should prompt:\n",
    "\n",
    "**Invalid input, please enter a number: _**\n"
   ]
  },
  {
   "cell_type": "code",
   "execution_count": 2,
   "metadata": {},
   "outputs": [
    {
     "name": "stdout",
     "output_type": "stream",
     "text": [
      "Which shape would you like to calculate the area for? Please enter the option number-\n",
      "1. Square\n",
      "2. Rectangle\n",
      "3. Triangle\n",
      "4. Circle\n",
      "\n",
      "Enter Option:1\n",
      "You chose: Square\n",
      "Please enter the length of a side of Square:4\n",
      "Area is=16\n"
     ]
    }
   ],
   "source": [
    "def getShape():\n",
    "    \n",
    "    shapeDict = {1:\"Square\", 2:\"Rectangle\", 3:\"Triangle\", 4:\"Circle\"}\n",
    "    \n",
    "    prompt = \"Which shape would you like to calculate the area for? Please enter the option number-\\n\"\n",
    "    \n",
    "    for val, name in shapeDict.items():\n",
    "        prompt += (str(val) + \". \" + name + \"\\n\")\n",
    "    \n",
    "    print(prompt)\n",
    "    \n",
    "    #shape = int(input(\"Enter Option:\"))\n",
    "\n",
    "    shape = 0\n",
    "    shapeStr = input(\"Enter Option:\")\n",
    "    if shapeStr.isnumeric():\n",
    "        shape = int(shapeStr)\n",
    "        \n",
    "    while shape not in shapeDict: \n",
    "        print(\"Invalid input, please enter a valid number: _\")\n",
    "        shapeStr = input(\"Enter Option:\")\n",
    "        if shapeStr.isnumeric():\n",
    "            shape = int(shapeStr)\n",
    "\n",
    "    print(\"You chose: \" + shapeDict[shape])\n",
    "    return shape\n",
    "\n",
    "def calcAreaSquare():\n",
    "    side = int(input(\"Please enter the length of a side of Square:\"))\n",
    "    return (side*side)\n",
    "\n",
    "def calcAreaRectangle():\n",
    "    side1 = int(input(\"Please enter the length of first side of Rectangle:\"))\n",
    "    side2 = int(input(\"Please enter the length of second side of Rectangle:\"))\n",
    "    return (side1*side2)\n",
    "\n",
    "def calcAreaTriangle():\n",
    "    base = int(input(\"Please enter the length of base of triangle:\"))\n",
    "    height = int(input(\"Please enter the length of height of triangle:\"))\n",
    "    return (base*height/2)\n",
    "\n",
    "def calcAreaCircle():\n",
    "    radius = int(input(\"Please enter the radius of Circle:\"))\n",
    "    return (22/7*radius**2)\n",
    "\n",
    "\n",
    "def areaCalculator():\n",
    "    \n",
    "    myShape = getShape()\n",
    "    area = 0.0\n",
    "\n",
    "    if myShape == 1:\n",
    "        area = calcAreaSquare()\n",
    "    elif myShape == 2:\n",
    "        area = calcAreaRectangle()\n",
    "    elif myShape == 3:\n",
    "        area = calcAreaTriangle()\n",
    "    elif myShape == 4:\n",
    "        area = calcAreaCircle()\n",
    "    else:\n",
    "        print(\"Unsupported shape !!\")\n",
    "\n",
    "    print(\"Area is=\" + str(area))\n",
    "\n",
    "areaCalculator()"
   ]
  },
  {
   "cell_type": "code",
   "execution_count": 3,
   "metadata": {},
   "outputs": [
    {
     "name": "stdout",
     "output_type": "stream",
     "text": [
      "Which shape would you like to calculate the area for? Please enter the option number-\n",
      "1. Square\n",
      "2. Rectangle\n",
      "3. Triangle\n",
      "4. Circle\n",
      "\n",
      "Enter Option:2\n",
      "You chose: Rectangle\n",
      "Please enter the length of first side of Rectangle:6\n",
      "Please enter the length of second side of Rectangle:8\n",
      "Area is=48\n"
     ]
    }
   ],
   "source": [
    "areaCalculator()"
   ]
  },
  {
   "cell_type": "code",
   "execution_count": 4,
   "metadata": {},
   "outputs": [
    {
     "name": "stdout",
     "output_type": "stream",
     "text": [
      "Which shape would you like to calculate the area for? Please enter the option number-\n",
      "1. Square\n",
      "2. Rectangle\n",
      "3. Triangle\n",
      "4. Circle\n",
      "\n",
      "Enter Option:3\n",
      "You chose: Triangle\n",
      "Please enter the length of base of triangle:8\n",
      "Please enter the length of height of triangle:4\n",
      "Area is=16.0\n"
     ]
    }
   ],
   "source": [
    "areaCalculator()"
   ]
  },
  {
   "cell_type": "code",
   "execution_count": 5,
   "metadata": {},
   "outputs": [
    {
     "name": "stdout",
     "output_type": "stream",
     "text": [
      "Which shape would you like to calculate the area for? Please enter the option number-\n",
      "1. Square\n",
      "2. Rectangle\n",
      "3. Triangle\n",
      "4. Circle\n",
      "\n",
      "Enter Option:4\n",
      "You chose: Circle\n",
      "Please enter the radius of Circle:7\n",
      "Area is=154.0\n"
     ]
    }
   ],
   "source": [
    "areaCalculator()"
   ]
  },
  {
   "cell_type": "markdown",
   "metadata": {},
   "source": [
    "### Problem 2\n",
    "\n",
    "You have newly joined an organization abc.com. Write a python function that will take your 1st and last name as input and print the official mail as which has a format like firstname.lastname@abc.com\n",
    "\n",
    "When the program is run, the screen should display something like this:\n",
    "\n",
    "Enter your first name: nikhil\n",
    "\n",
    "Enter your last name: agrawal\n",
    "\n",
    "You official email id is nikhil.agrawal@abc.com \n",
    "\n",
    "**Hint:** use string concatenation."
   ]
  },
  {
   "cell_type": "code",
   "execution_count": 11,
   "metadata": {},
   "outputs": [
    {
     "name": "stdout",
     "output_type": "stream",
     "text": [
      "Enter your first name: john\n",
      "Enter your last name: smith\n",
      "You official email id is <john.smith@abc.com>\n"
     ]
    }
   ],
   "source": [
    "company_domain = \"abc.com\"\n",
    "def getEmail(firstname, lastname):\n",
    "    return(firstname + \".\" + lastname + \"@\" + company_domain)\n",
    "\n",
    "firstName = input(\"Enter your first name: \")\n",
    "lastName = input(\"Enter your last name: \")\n",
    "\n",
    "print(\"You official email id is <\" + getEmail(firstName, lastName) + \">\")"
   ]
  }
 ],
 "metadata": {
  "kernelspec": {
   "display_name": "Python 3 (ipykernel)",
   "language": "python",
   "name": "python3"
  },
  "language_info": {
   "codemirror_mode": {
    "name": "ipython",
    "version": 3
   },
   "file_extension": ".py",
   "mimetype": "text/x-python",
   "name": "python",
   "nbconvert_exporter": "python",
   "pygments_lexer": "ipython3",
   "version": "3.9.13"
  }
 },
 "nbformat": 4,
 "nbformat_minor": 2
}
